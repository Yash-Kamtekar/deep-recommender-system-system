{
  "nbformat": 4,
  "nbformat_minor": 0,
  "metadata": {
    "colab": {
      "name": "Deep Recommender System.ipynb",
      "provenance": [],
      "authorship_tag": "ABX9TyODJxeY+Y2M5kGGNFE7ovom",
      "include_colab_link": true
    },
    "kernelspec": {
      "name": "python3",
      "display_name": "Python 3"
    },
    "language_info": {
      "name": "python"
    },
    "widgets": {
      "application/vnd.jupyter.widget-state+json": {}
    }
  },
  "cells": [
    {
      "cell_type": "markdown",
      "metadata": {
        "id": "view-in-github",
        "colab_type": "text"
      },
      "source": [
        "<a href=\"https://colab.research.google.com/github/Yash-Kamtekar/deep-recommender-system-system/blob/main/Deep_Recommender_System.ipynb\" target=\"_parent\"><img src=\"https://colab.research.google.com/assets/colab-badge.svg\" alt=\"Open In Colab\"/></a>"
      ]
    },
    {
      "cell_type": "markdown",
      "metadata": {
        "id": "Z17OmgavQfp4"
      },
      "source": [
        "#User to item recommendation  models\n",
        "\n",
        "\n"
      ]
    },
    {
      "cell_type": "markdown",
      "metadata": {
        "id": "sawo1x8kQk9b"
      },
      "source": [
        "## Imports\n",
        "\n",
        "\n",
        "Let's first get our imports out of the way."
      ]
    },
    {
      "cell_type": "code",
      "execution_count": 48,
      "metadata": {
        "id": "0vJOdh9WbTpd"
      },
      "outputs": [],
      "source": [
        "!pip install -q tensorflow-recommenders\n",
        "!pip install -q --upgrade tensorflow-datasets\n",
        "!pip install -q scann"
      ]
    },
    {
      "cell_type": "code",
      "execution_count": 49,
      "metadata": {
        "id": "SZGYDaF-m5wZ"
      },
      "outputs": [],
      "source": [
        "import os\n",
        "import pprint\n",
        "import tempfile\n",
        "\n",
        "from typing import Dict, Text\n",
        "\n",
        "import numpy as np\n",
        "import tensorflow as tf\n",
        "import tensorflow_datasets as tfds"
      ]
    },
    {
      "cell_type": "code",
      "execution_count": 50,
      "metadata": {
        "id": "BxQ_hy7xPH3N"
      },
      "outputs": [],
      "source": [
        "import tensorflow_recommenders as tfrs"
      ]
    },
    {
      "cell_type": "markdown",
      "metadata": {
        "id": "5PAqjR4a1RR4"
      },
      "source": [
        "## Preparing the dataset\n",
        "\n"
      ]
    },
    {
      "cell_type": "code",
      "execution_count": 51,
      "metadata": {
        "id": "aaQhqcLGP0jL"
      },
      "outputs": [],
      "source": [
        "# Ratings data.\n",
        "ratings = tfds.load(\"movielens/100k-ratings\", split=\"train\")\n",
        "# Features of all the available movies.\n",
        "movies = tfds.load(\"movielens/100k-movies\", split=\"train\")"
      ]
    },
    {
      "cell_type": "markdown",
      "metadata": {
        "id": "JRHorm8W1yf3"
      },
      "source": [
        "The ratings dataset returns a dictionary of movie id, user id, the assigned rating, timestamp, movie information, and user information:"
      ]
    },
    {
      "cell_type": "code",
      "execution_count": 52,
      "metadata": {
        "id": "_1-KQV2ynMdh",
        "colab": {
          "base_uri": "https://localhost:8080/"
        },
        "outputId": "5285ddc1-e8cb-47ca-dacf-e23a20f4ccd6"
      },
      "outputs": [
        {
          "output_type": "stream",
          "name": "stdout",
          "text": [
            "{'bucketized_user_age': 45.0,\n",
            " 'movie_genres': array([7]),\n",
            " 'movie_id': b'357',\n",
            " 'movie_title': b\"One Flew Over the Cuckoo's Nest (1975)\",\n",
            " 'raw_user_age': 46.0,\n",
            " 'timestamp': 879024327,\n",
            " 'user_gender': True,\n",
            " 'user_id': b'138',\n",
            " 'user_occupation_label': 4,\n",
            " 'user_occupation_text': b'doctor',\n",
            " 'user_rating': 4.0,\n",
            " 'user_zip_code': b'53211'}\n"
          ]
        }
      ],
      "source": [
        "for x in ratings.take(1).as_numpy_iterator():\n",
        "  pprint.pprint(x)"
      ]
    },
    {
      "cell_type": "markdown",
      "metadata": {
        "id": "qGLGCjSt_q96"
      },
      "source": [
        "The movies dataset contains the movie id, movie title, and data on what genres it belongs to. Note that the genres are encoded with integer labels."
      ]
    },
    {
      "cell_type": "code",
      "execution_count": 53,
      "metadata": {
        "id": "kHLsIHhw_x1d",
        "colab": {
          "base_uri": "https://localhost:8080/"
        },
        "outputId": "a45bed31-7ae6-4ce6-8bad-0c7dbbdba146"
      },
      "outputs": [
        {
          "output_type": "stream",
          "name": "stdout",
          "text": [
            "{'movie_genres': array([4]),\n",
            " 'movie_id': b'1681',\n",
            " 'movie_title': b'You So Crazy (1994)'}\n"
          ]
        }
      ],
      "source": [
        "for x in movies.take(1).as_numpy_iterator():\n",
        "  pprint.pprint(x)"
      ]
    },
    {
      "cell_type": "code",
      "execution_count": 54,
      "metadata": {
        "id": "uhbEvPJqxLec"
      },
      "outputs": [],
      "source": [
        "ratings = ratings.map(lambda x: {\n",
        "    \"movie_title\": x[\"movie_title\"],\n",
        "    \"user_id\": x[\"user_id\"],\n",
        "})\n",
        "movies = movies.map(lambda x: x[\"movie_title\"])"
      ]
    },
    {
      "cell_type": "code",
      "execution_count": 55,
      "metadata": {
        "id": "rS0eDfkjnjJL"
      },
      "outputs": [],
      "source": [
        "tf.random.set_seed(42)\n",
        "shuffled = ratings.shuffle(100_000, seed=42, reshuffle_each_iteration=False)\n",
        "\n",
        "train = shuffled.take(80_000)\n",
        "test = shuffled.skip(80_000).take(20_000)"
      ]
    },
    {
      "cell_type": "code",
      "execution_count": 56,
      "metadata": {
        "id": "MKROCiPo_5LJ",
        "colab": {
          "base_uri": "https://localhost:8080/"
        },
        "outputId": "f4a90772-f8f4-40d3-8dd1-6c64c4ed1132"
      },
      "outputs": [
        {
          "output_type": "execute_result",
          "data": {
            "text/plain": [
              "array([b\"'Til There Was You (1997)\", b'1-900 (1994)',\n",
              "       b'101 Dalmatians (1996)', b'12 Angry Men (1957)', b'187 (1997)',\n",
              "       b'2 Days in the Valley (1996)',\n",
              "       b'20,000 Leagues Under the Sea (1954)',\n",
              "       b'2001: A Space Odyssey (1968)',\n",
              "       b'3 Ninjas: High Noon At Mega Mountain (1998)',\n",
              "       b'39 Steps, The (1935)'], dtype=object)"
            ]
          },
          "metadata": {},
          "execution_count": 56
        }
      ],
      "source": [
        "movie_titles = movies.batch(1_000)\n",
        "user_ids = ratings.batch(1_000_000).map(lambda x: x[\"user_id\"])\n",
        "\n",
        "unique_movie_titles = np.unique(np.concatenate(list(movie_titles)))\n",
        "unique_user_ids = np.unique(np.concatenate(list(user_ids)))\n",
        "\n",
        "unique_movie_titles[:10]"
      ]
    },
    {
      "cell_type": "markdown",
      "metadata": {
        "id": "eCi-seR86qqa"
      },
      "source": [
        "## Implementing a model\n",
        "\n",
        "Choosing the architecture of our model is a key part of modelling.\n",
        "\n",
        "Because we are building a two-tower retrieval model, we can build each tower separately and then combine them in the final model."
      ]
    },
    {
      "cell_type": "markdown",
      "metadata": {
        "id": "z20PyfSXP3Um"
      },
      "source": [
        "## The query tower\n",
        "\n"
      ]
    },
    {
      "cell_type": "code",
      "execution_count": 57,
      "metadata": {
        "id": "QbIy1FP8aCTq"
      },
      "outputs": [],
      "source": [
        "embedding_dimension = 32"
      ]
    },
    {
      "cell_type": "code",
      "execution_count": 58,
      "metadata": {
        "id": "kHQZJEhXP93N"
      },
      "outputs": [],
      "source": [
        "user_model = tf.keras.Sequential([\n",
        "  tf.keras.layers.StringLookup(\n",
        "      vocabulary=unique_user_ids, mask_token=None),\n",
        "  # We add an additional embedding to account for unknown tokens.\n",
        "  tf.keras.layers.Embedding(len(unique_user_ids) + 1, embedding_dimension)\n",
        "])"
      ]
    },
    {
      "cell_type": "markdown",
      "metadata": {
        "id": "dG4YFy9SQ08d"
      },
      "source": [
        "### The candidate tower\n",
        "\n",
        "We can do the same with the candidate tower."
      ]
    },
    {
      "cell_type": "code",
      "execution_count": 59,
      "metadata": {
        "id": "qNUwfIJTQ332"
      },
      "outputs": [],
      "source": [
        "movie_model = tf.keras.Sequential([\n",
        "  tf.keras.layers.StringLookup(\n",
        "      vocabulary=unique_movie_titles, mask_token=None),\n",
        "  tf.keras.layers.Embedding(len(unique_movie_titles) + 1, embedding_dimension)\n",
        "])"
      ]
    },
    {
      "cell_type": "markdown",
      "metadata": {
        "id": "r10RiPtqVIAl"
      },
      "source": [
        "## Metrics\n"
      ]
    },
    {
      "cell_type": "code",
      "execution_count": 60,
      "metadata": {
        "id": "1dLDL6pZVPO8"
      },
      "outputs": [],
      "source": [
        "metrics = tfrs.metrics.FactorizedTopK(\n",
        "  candidates=movies.batch(128).map(movie_model)\n",
        ")"
      ]
    },
    {
      "cell_type": "markdown",
      "metadata": {
        "id": "nCaCqJsXSkCo"
      },
      "source": [
        "### Loss\n",
        "\n",
        "The next component is the loss used to train our model. TFRS has several loss layers and tasks to make this easy.\n",
        "\n",
        "In this instance, we'll make use of the `Retrieval` task object: a convenience wrapper that bundles together the loss function and metric computation:"
      ]
    },
    {
      "cell_type": "code",
      "execution_count": 61,
      "metadata": {
        "id": "tJ61Iz2QTBw3"
      },
      "outputs": [],
      "source": [
        "task = tfrs.tasks.Retrieval(\n",
        "  metrics=metrics\n",
        ")"
      ]
    },
    {
      "cell_type": "markdown",
      "metadata": {
        "id": "9-3xFC-1cbz0"
      },
      "source": [
        "The task itself is a Keras layer that takes the query and candidate embeddings as arguments, and returns the computed loss: we'll use that to implement the model's training loop."
      ]
    },
    {
      "cell_type": "markdown",
      "metadata": {
        "id": "FZUFeSlWRHGx"
      },
      "source": [
        "### The full model\n",
        "\n",
        "We can now put it all together into a model. TFRS exposes a base model class (`tfrs.models.Model`) which streamlines building models: all we need to do is to set up the components in the `__init__` method, and implement the `compute_loss` method, taking in the raw features and returning a loss value.\n",
        "\n",
        "The base model will then take care of creating the appropriate training loop to fit our model."
      ]
    },
    {
      "cell_type": "code",
      "execution_count": 62,
      "metadata": {
        "id": "8n7c5CHFp0ow"
      },
      "outputs": [],
      "source": [
        "class MovielensModel(tfrs.Model):\n",
        "\n",
        "  def __init__(self, user_model, movie_model):\n",
        "    super().__init__()\n",
        "    self.movie_model: tf.keras.Model = movie_model\n",
        "    self.user_model: tf.keras.Model = user_model\n",
        "    self.task: tf.keras.layers.Layer = task\n",
        "\n",
        "  def compute_loss(self, features: Dict[Text, tf.Tensor], training=False) -> tf.Tensor:\n",
        "    # We pick out the user features and pass them into the user model.\n",
        "    user_embeddings = self.user_model(features[\"user_id\"])\n",
        "    # And pick out the movie features and pass them into the movie model,\n",
        "    # getting embeddings back.\n",
        "    positive_movie_embeddings = self.movie_model(features[\"movie_title\"])\n",
        "\n",
        "    # The task computes the loss and the metrics.\n",
        "    return self.task(user_embeddings, positive_movie_embeddings)"
      ]
    },
    {
      "cell_type": "markdown",
      "metadata": {
        "id": "I7B8PdfNqyuN"
      },
      "source": [
        "The `tfrs.Model` base class is a simply convenience class: it allows us to compute both training and test losses using the same method.\n",
        "\n",
        "Under the hood, it's still a plain Keras model. You could achieve the same functionality by inheriting from `tf.keras.Model` and overriding the `train_step` and `test_step` functions (see [the guide](https://www.tensorflow.org/guide/keras/customizing_what_happens_in_fit) for details):"
      ]
    },
    {
      "cell_type": "code",
      "execution_count": 63,
      "metadata": {
        "id": "Z3QywMjqsH4F"
      },
      "outputs": [],
      "source": [
        "class NoBaseClassMovielensModel(tf.keras.Model):\n",
        "\n",
        "  def __init__(self, user_model, movie_model):\n",
        "    super().__init__()\n",
        "    self.movie_model: tf.keras.Model = movie_model\n",
        "    self.user_model: tf.keras.Model = user_model\n",
        "    self.task: tf.keras.layers.Layer = task\n",
        "\n",
        "  def train_step(self, features: Dict[Text, tf.Tensor]) -> tf.Tensor:\n",
        "\n",
        "    # Set up a gradient tape to record gradients.\n",
        "    with tf.GradientTape() as tape:\n",
        "\n",
        "      # Loss computation.\n",
        "      user_embeddings = self.user_model(features[\"user_id\"])\n",
        "      positive_movie_embeddings = self.movie_model(features[\"movie_title\"])\n",
        "      loss = self.task(user_embeddings, positive_movie_embeddings)\n",
        "\n",
        "      # Handle regularization losses as well.\n",
        "      regularization_loss = sum(self.losses)\n",
        "\n",
        "      total_loss = loss + regularization_loss\n",
        "\n",
        "    gradients = tape.gradient(total_loss, self.trainable_variables)\n",
        "    self.optimizer.apply_gradients(zip(gradients, self.trainable_variables))\n",
        "\n",
        "    metrics = {metric.name: metric.result() for metric in self.metrics}\n",
        "    metrics[\"loss\"] = loss\n",
        "    metrics[\"regularization_loss\"] = regularization_loss\n",
        "    metrics[\"total_loss\"] = total_loss\n",
        "\n",
        "    return metrics\n",
        "\n",
        "  def test_step(self, features: Dict[Text, tf.Tensor]) -> tf.Tensor:\n",
        "\n",
        "    # Loss computation.\n",
        "    user_embeddings = self.user_model(features[\"user_id\"])\n",
        "    positive_movie_embeddings = self.movie_model(features[\"movie_title\"])\n",
        "    loss = self.task(user_embeddings, positive_movie_embeddings)\n",
        "\n",
        "    # Handle regularization losses as well.\n",
        "    regularization_loss = sum(self.losses)\n",
        "\n",
        "    total_loss = loss + regularization_loss\n",
        "\n",
        "    metrics = {metric.name: metric.result() for metric in self.metrics}\n",
        "    metrics[\"loss\"] = loss\n",
        "    metrics[\"regularization_loss\"] = regularization_loss\n",
        "    metrics[\"total_loss\"] = total_loss\n",
        "\n",
        "    return metrics"
      ]
    },
    {
      "cell_type": "markdown",
      "metadata": {
        "id": "uHnl2nHMs_E0"
      },
      "source": [
        "In these tutorials, however, we stick to using the `tfrs.Model` base class to keep our focus on modelling and abstract away some of the boilerplate."
      ]
    },
    {
      "cell_type": "markdown",
      "metadata": {
        "id": "yDN_LJGlnRGo"
      },
      "source": [
        "## Fitting and evaluating\n",
        "\n",
        "After defining the model, we can use standard Keras fitting and evaluation routines to fit and evaluate the model.\n",
        "\n",
        "Let's first instantiate the model."
      ]
    },
    {
      "cell_type": "code",
      "execution_count": 64,
      "metadata": {
        "id": "aW63YaqP2wCf"
      },
      "outputs": [],
      "source": [
        "model = MovielensModel(user_model, movie_model)\n",
        "model.compile(optimizer=tf.keras.optimizers.Adagrad(learning_rate=0.1))"
      ]
    },
    {
      "cell_type": "markdown",
      "metadata": {
        "id": "Nma0vc2XdN5g"
      },
      "source": [
        "Then shuffle, batch, and cache the training and evaluation data."
      ]
    },
    {
      "cell_type": "code",
      "execution_count": 65,
      "metadata": {
        "id": "53QJwY1gUnfv"
      },
      "outputs": [],
      "source": [
        "cached_train = train.shuffle(100_000).batch(8192).cache()\n",
        "cached_test = test.batch(4096).cache()"
      ]
    },
    {
      "cell_type": "markdown",
      "metadata": {
        "id": "u8mHTxKAdTJO"
      },
      "source": [
        "Then train the  model:"
      ]
    },
    {
      "cell_type": "code",
      "execution_count": 66,
      "metadata": {
        "id": "ZxPntlT8EFOZ",
        "colab": {
          "base_uri": "https://localhost:8080/"
        },
        "outputId": "95e5ecb5-5237-4a57-f4d9-1a0f32484c9d"
      },
      "outputs": [
        {
          "output_type": "stream",
          "name": "stdout",
          "text": [
            "Epoch 1/3\n",
            "10/10 [==============================] - 43s 4s/step - factorized_top_k/top_1_categorical_accuracy: 4.3750e-04 - factorized_top_k/top_5_categorical_accuracy: 0.0056 - factorized_top_k/top_10_categorical_accuracy: 0.0134 - factorized_top_k/top_50_categorical_accuracy: 0.0849 - factorized_top_k/top_100_categorical_accuracy: 0.1618 - loss: 69885.1129 - regularization_loss: 0.0000e+00 - total_loss: 69885.1129\n",
            "Epoch 2/3\n",
            "10/10 [==============================] - 23s 2s/step - factorized_top_k/top_1_categorical_accuracy: 0.0022 - factorized_top_k/top_5_categorical_accuracy: 0.0165 - factorized_top_k/top_10_categorical_accuracy: 0.0343 - factorized_top_k/top_50_categorical_accuracy: 0.1625 - factorized_top_k/top_100_categorical_accuracy: 0.2864 - loss: 67523.3672 - regularization_loss: 0.0000e+00 - total_loss: 67523.3672\n",
            "Epoch 3/3\n",
            "10/10 [==============================] - 26s 3s/step - factorized_top_k/top_1_categorical_accuracy: 0.0030 - factorized_top_k/top_5_categorical_accuracy: 0.0215 - factorized_top_k/top_10_categorical_accuracy: 0.0442 - factorized_top_k/top_50_categorical_accuracy: 0.1858 - factorized_top_k/top_100_categorical_accuracy: 0.3140 - loss: 66302.9574 - regularization_loss: 0.0000e+00 - total_loss: 66302.9574\n"
          ]
        },
        {
          "output_type": "execute_result",
          "data": {
            "text/plain": [
              "<keras.callbacks.History at 0x7f5275ef18d0>"
            ]
          },
          "metadata": {},
          "execution_count": 66
        }
      ],
      "source": [
        "model.fit(cached_train, epochs=3)"
      ]
    },
    {
      "cell_type": "markdown",
      "metadata": {
        "id": "7Gxp5RLFcv64"
      },
      "source": [
        "Finally, we can evaluate our model on the test set:"
      ]
    },
    {
      "cell_type": "code",
      "execution_count": 67,
      "metadata": {
        "id": "W-zu6HLODNeI",
        "colab": {
          "base_uri": "https://localhost:8080/"
        },
        "outputId": "746a9aaf-8ad9-4319-eb5b-1f485cb8db33"
      },
      "outputs": [
        {
          "output_type": "stream",
          "name": "stdout",
          "text": [
            "5/5 [==============================] - 8s 937ms/step - factorized_top_k/top_1_categorical_accuracy: 7.0000e-04 - factorized_top_k/top_5_categorical_accuracy: 0.0095 - factorized_top_k/top_10_categorical_accuracy: 0.0223 - factorized_top_k/top_50_categorical_accuracy: 0.1246 - factorized_top_k/top_100_categorical_accuracy: 0.2327 - loss: 31079.0615 - regularization_loss: 0.0000e+00 - total_loss: 31079.0615\n"
          ]
        },
        {
          "output_type": "execute_result",
          "data": {
            "text/plain": [
              "{'factorized_top_k/top_100_categorical_accuracy': 0.23274999856948853,\n",
              " 'factorized_top_k/top_10_categorical_accuracy': 0.022299999371170998,\n",
              " 'factorized_top_k/top_1_categorical_accuracy': 0.000699999975040555,\n",
              " 'factorized_top_k/top_50_categorical_accuracy': 0.12460000067949295,\n",
              " 'factorized_top_k/top_5_categorical_accuracy': 0.009499999694526196,\n",
              " 'loss': 28244.771484375,\n",
              " 'regularization_loss': 0,\n",
              " 'total_loss': 28244.771484375}"
            ]
          },
          "metadata": {},
          "execution_count": 67
        }
      ],
      "source": [
        "model.evaluate(cached_test, return_dict=True)"
      ]
    },
    {
      "cell_type": "markdown",
      "metadata": {
        "id": "NB2v43NJU3Xf"
      },
      "source": [
        "## Making predictions\n",
        "\n",
        "Now that we have a model, we would like to be able to make predictions. We can use the `tfrs.layers.factorized_top_k.BruteForce` layer to do this."
      ]
    },
    {
      "cell_type": "code",
      "execution_count": 68,
      "metadata": {
        "id": "IRD6bEtZW_8j",
        "colab": {
          "base_uri": "https://localhost:8080/"
        },
        "outputId": "114e670a-210f-419c-8e37-6c825293afae"
      },
      "outputs": [
        {
          "output_type": "stream",
          "name": "stdout",
          "text": [
            "Recommendations for user 42: [b'Bridges of Madison County, The (1995)'\n",
            " b'Father of the Bride Part II (1995)' b'Rudy (1993)']\n"
          ]
        }
      ],
      "source": [
        "# Create a model that takes in raw query features, and\n",
        "index = tfrs.layers.factorized_top_k.BruteForce(model.user_model)\n",
        "# recommends movies out of the entire movies dataset.\n",
        "index.index_from_dataset(\n",
        "  tf.data.Dataset.zip((movies.batch(100), movies.batch(100).map(model.movie_model)))\n",
        ")\n",
        "\n",
        "# Get recommendations.\n",
        "_, titles = index(tf.constant([\"42\"]))\n",
        "print(f\"Recommendations for user 42: {titles[0, :3]}\")"
      ]
    },
    {
      "cell_type": "markdown",
      "metadata": {
        "id": "cOoLv6ZMKg0L"
      },
      "source": [
        "Of course, the `BruteForce` layer is going to be too slow to serve a model with many possible candidates. The following sections shows how to speed this up by using an approximate retrieval index."
      ]
    },
    {
      "cell_type": "markdown",
      "metadata": {
        "id": "pFlvp5DK4Ow8"
      },
      "source": [
        "## Model serving\n",
        "\n",
        "After the model is trained, we need a way to deploy it.\n",
        "\n",
        "In a two-tower retrieval model, serving has two components:\n",
        "\n",
        "- a serving query model, taking in features of the query and transforming them into a query embedding, and\n",
        "- a serving candidate model. This most often takes the form of an approximate nearest neighbours (ANN) index which allows fast approximate lookup of candidates in response to a query produced by the query model."
      ]
    },
    {
      "cell_type": "code",
      "execution_count": 69,
      "metadata": {
        "id": "oJkRNBfCW5_E",
        "colab": {
          "base_uri": "https://localhost:8080/"
        },
        "outputId": "e687652c-8b3f-4aba-d3ee-d7a5266f4ba3"
      },
      "outputs": [
        {
          "output_type": "stream",
          "name": "stderr",
          "text": [
            "WARNING:absl:Found untraced functions such as query_with_exclusions while saving (showing 1 of 1). These functions will not be directly callable after loading.\n"
          ]
        },
        {
          "output_type": "stream",
          "name": "stdout",
          "text": [
            "INFO:tensorflow:Assets written to: /tmp/tmph4r432wb/model/assets\n"
          ]
        },
        {
          "output_type": "stream",
          "name": "stderr",
          "text": [
            "INFO:tensorflow:Assets written to: /tmp/tmph4r432wb/model/assets\n"
          ]
        },
        {
          "output_type": "stream",
          "name": "stdout",
          "text": [
            "Recommendations: [b'Bridges of Madison County, The (1995)'\n",
            " b'Father of the Bride Part II (1995)' b'Rudy (1993)']\n"
          ]
        }
      ],
      "source": [
        "# Export the query model.\n",
        "with tempfile.TemporaryDirectory() as tmp:\n",
        "  path = os.path.join(tmp, \"model\")\n",
        "\n",
        "  # Save the index.\n",
        "  tf.saved_model.save(index, path)\n",
        "\n",
        "  # Load it back; can also be done in TensorFlow Serving.\n",
        "  loaded = tf.saved_model.load(path)\n",
        "\n",
        "  # Pass a user id in, get top predicted movie titles back.\n",
        "  scores, titles = loaded([\"42\"])\n",
        "\n",
        "  print(f\"Recommendations: {titles[0][:3]}\")"
      ]
    },
    {
      "cell_type": "markdown",
      "metadata": {
        "id": "15PtZqoO5k_k"
      },
      "source": [
        "##f) scalable deep retrieval using scann"
      ]
    },
    {
      "cell_type": "code",
      "execution_count": 70,
      "metadata": {
        "id": "rTz8yxyp5uwU",
        "colab": {
          "base_uri": "https://localhost:8080/"
        },
        "outputId": "8368e508-5c4c-4876-ecda-500bddfdf1b2"
      },
      "outputs": [
        {
          "output_type": "execute_result",
          "data": {
            "text/plain": [
              "<tensorflow_recommenders.layers.factorized_top_k.ScaNN at 0x7f52ffc5e890>"
            ]
          },
          "metadata": {},
          "execution_count": 70
        }
      ],
      "source": [
        "scann_index = tfrs.layers.factorized_top_k.ScaNN(model.user_model)\n",
        "scann_index.index_from_dataset(\n",
        "  tf.data.Dataset.zip((movies.batch(100), movies.batch(100).map(model.movie_model)))\n",
        ")"
      ]
    },
    {
      "cell_type": "markdown",
      "metadata": {
        "id": "UpLnoUv256bS"
      },
      "source": [
        "This layer will perform _approximate_ lookups: this makes retrieval slightly less accurate, but orders of magnitude faster on large candidate sets."
      ]
    },
    {
      "cell_type": "code",
      "execution_count": 71,
      "metadata": {
        "id": "Te_MGu1Q6JrU",
        "colab": {
          "base_uri": "https://localhost:8080/"
        },
        "outputId": "5b75c3a9-fd3f-41ac-ea0e-38286c0b4e20"
      },
      "outputs": [
        {
          "output_type": "stream",
          "name": "stdout",
          "text": [
            "Recommendations for user 42: [b'Sleepless in Seattle (1993)' b'Father of the Bride Part II (1995)'\n",
            " b'Hunchback of Notre Dame, The (1996)']\n"
          ]
        }
      ],
      "source": [
        "# Get recommendations.\n",
        "_, titles = scann_index(tf.constant([\"42\"]))\n",
        "print(f\"Recommendations for user 42: {titles[0, :3]}\")"
      ]
    },
    {
      "cell_type": "markdown",
      "metadata": {
        "id": "Izo0IUMA6TQm"
      },
      "source": [
        "Exporting it for serving is as easy as exporting the `BruteForce` layer:"
      ]
    },
    {
      "cell_type": "code",
      "execution_count": 72,
      "metadata": {
        "id": "K7NUqgxU6W_T",
        "colab": {
          "base_uri": "https://localhost:8080/"
        },
        "outputId": "428fb0f0-0284-4183-bb6f-e6de09584d06"
      },
      "outputs": [
        {
          "output_type": "stream",
          "name": "stderr",
          "text": [
            "WARNING:absl:Found untraced functions such as query_with_exclusions while saving (showing 1 of 1). These functions will not be directly callable after loading.\n"
          ]
        },
        {
          "output_type": "stream",
          "name": "stdout",
          "text": [
            "INFO:tensorflow:Assets written to: /tmp/tmpbzisfw6_/model/assets\n"
          ]
        },
        {
          "output_type": "stream",
          "name": "stderr",
          "text": [
            "INFO:tensorflow:Assets written to: /tmp/tmpbzisfw6_/model/assets\n"
          ]
        },
        {
          "output_type": "stream",
          "name": "stdout",
          "text": [
            "Recommendations: [b'Bridges of Madison County, The (1995)'\n",
            " b'Father of the Bride Part II (1995)' b'Rudy (1993)']\n"
          ]
        }
      ],
      "source": [
        "# Export the query model.\n",
        "with tempfile.TemporaryDirectory() as tmp:\n",
        "  path = os.path.join(tmp, \"model\")\n",
        "\n",
        "  # Save the index.\n",
        "  tf.saved_model.save(\n",
        "      index,\n",
        "      path,\n",
        "      options=tf.saved_model.SaveOptions(namespace_whitelist=[\"Scann\"])\n",
        "  )\n",
        "\n",
        "  # Load it back; can also be done in TensorFlow Serving.\n",
        "  loaded = tf.saved_model.load(path)\n",
        "\n",
        "  # Pass a user id in, get top predicted movie titles back.\n",
        "  scores, titles = loaded([\"42\"])\n",
        "\n",
        "  print(f\"Recommendations: {titles[0][:3]}\")"
      ]
    },
    {
      "cell_type": "markdown",
      "source": [
        "#Item to Item Recommendation Model"
      ],
      "metadata": {
        "id": "iv_OD4Cc9e78"
      }
    },
    {
      "cell_type": "code",
      "source": [
        "import pandas as pd\n",
        "import numpy as np"
      ],
      "metadata": {
        "id": "4MsBFn-p9iw_"
      },
      "execution_count": null,
      "outputs": []
    },
    {
      "cell_type": "code",
      "source": [
        "df = pd.DataFrame({'user_0':[0,3,0,5,0,0,4,5,0,2], 'user_1':[0,0,3,2,5,0,4,0,3,0], 'user_2':[3,1,0,3,5,0,0,4,0,0], 'user_3':[4,3,4,2,0,0,0,2,0,0], \n",
        "                   'user_4':[2,0,0,0,0,4,4,3,5,0], 'user_5':[1,0,2,4,0,0,4,0,5,0], 'user_6':[2,0,0,3,0,4,3,3,0,0], 'user_7':[0,0,0,3,0,2,4,3,4,0], \n",
        "                   'user_8':[5,0,0,0,5,3,0,3,0,4], 'user_9':[1,0,2,0,4,0,4,3,0,0]}, index=['movie_0','movie_1','movie_2','movie_3','movie_4','movie_5','movie_6','movie_7','movie_8','movie_9'])\n",
        "df"
      ],
      "metadata": {
        "colab": {
          "base_uri": "https://localhost:8080/",
          "height": 363
        },
        "id": "ZkUUvU0n9pgB",
        "outputId": "13726ca3-e559-461b-a327-1f765cd5b322"
      },
      "execution_count": null,
      "outputs": [
        {
          "output_type": "execute_result",
          "data": {
            "text/plain": [
              "         user_0  user_1  user_2  user_3  user_4  user_5  user_6  user_7  \\\n",
              "movie_0       0       0       3       4       2       1       2       0   \n",
              "movie_1       3       0       1       3       0       0       0       0   \n",
              "movie_2       0       3       0       4       0       2       0       0   \n",
              "movie_3       5       2       3       2       0       4       3       3   \n",
              "movie_4       0       5       5       0       0       0       0       0   \n",
              "movie_5       0       0       0       0       4       0       4       2   \n",
              "movie_6       4       4       0       0       4       4       3       4   \n",
              "movie_7       5       0       4       2       3       0       3       3   \n",
              "movie_8       0       3       0       0       5       5       0       4   \n",
              "movie_9       2       0       0       0       0       0       0       0   \n",
              "\n",
              "         user_8  user_9  \n",
              "movie_0       5       1  \n",
              "movie_1       0       0  \n",
              "movie_2       0       2  \n",
              "movie_3       0       0  \n",
              "movie_4       5       4  \n",
              "movie_5       3       0  \n",
              "movie_6       0       4  \n",
              "movie_7       3       3  \n",
              "movie_8       0       0  \n",
              "movie_9       4       0  "
            ],
            "text/html": [
              "\n",
              "  <div id=\"df-c16d4476-d108-44db-8f1f-e2b3859e944e\">\n",
              "    <div class=\"colab-df-container\">\n",
              "      <div>\n",
              "<style scoped>\n",
              "    .dataframe tbody tr th:only-of-type {\n",
              "        vertical-align: middle;\n",
              "    }\n",
              "\n",
              "    .dataframe tbody tr th {\n",
              "        vertical-align: top;\n",
              "    }\n",
              "\n",
              "    .dataframe thead th {\n",
              "        text-align: right;\n",
              "    }\n",
              "</style>\n",
              "<table border=\"1\" class=\"dataframe\">\n",
              "  <thead>\n",
              "    <tr style=\"text-align: right;\">\n",
              "      <th></th>\n",
              "      <th>user_0</th>\n",
              "      <th>user_1</th>\n",
              "      <th>user_2</th>\n",
              "      <th>user_3</th>\n",
              "      <th>user_4</th>\n",
              "      <th>user_5</th>\n",
              "      <th>user_6</th>\n",
              "      <th>user_7</th>\n",
              "      <th>user_8</th>\n",
              "      <th>user_9</th>\n",
              "    </tr>\n",
              "  </thead>\n",
              "  <tbody>\n",
              "    <tr>\n",
              "      <th>movie_0</th>\n",
              "      <td>0</td>\n",
              "      <td>0</td>\n",
              "      <td>3</td>\n",
              "      <td>4</td>\n",
              "      <td>2</td>\n",
              "      <td>1</td>\n",
              "      <td>2</td>\n",
              "      <td>0</td>\n",
              "      <td>5</td>\n",
              "      <td>1</td>\n",
              "    </tr>\n",
              "    <tr>\n",
              "      <th>movie_1</th>\n",
              "      <td>3</td>\n",
              "      <td>0</td>\n",
              "      <td>1</td>\n",
              "      <td>3</td>\n",
              "      <td>0</td>\n",
              "      <td>0</td>\n",
              "      <td>0</td>\n",
              "      <td>0</td>\n",
              "      <td>0</td>\n",
              "      <td>0</td>\n",
              "    </tr>\n",
              "    <tr>\n",
              "      <th>movie_2</th>\n",
              "      <td>0</td>\n",
              "      <td>3</td>\n",
              "      <td>0</td>\n",
              "      <td>4</td>\n",
              "      <td>0</td>\n",
              "      <td>2</td>\n",
              "      <td>0</td>\n",
              "      <td>0</td>\n",
              "      <td>0</td>\n",
              "      <td>2</td>\n",
              "    </tr>\n",
              "    <tr>\n",
              "      <th>movie_3</th>\n",
              "      <td>5</td>\n",
              "      <td>2</td>\n",
              "      <td>3</td>\n",
              "      <td>2</td>\n",
              "      <td>0</td>\n",
              "      <td>4</td>\n",
              "      <td>3</td>\n",
              "      <td>3</td>\n",
              "      <td>0</td>\n",
              "      <td>0</td>\n",
              "    </tr>\n",
              "    <tr>\n",
              "      <th>movie_4</th>\n",
              "      <td>0</td>\n",
              "      <td>5</td>\n",
              "      <td>5</td>\n",
              "      <td>0</td>\n",
              "      <td>0</td>\n",
              "      <td>0</td>\n",
              "      <td>0</td>\n",
              "      <td>0</td>\n",
              "      <td>5</td>\n",
              "      <td>4</td>\n",
              "    </tr>\n",
              "    <tr>\n",
              "      <th>movie_5</th>\n",
              "      <td>0</td>\n",
              "      <td>0</td>\n",
              "      <td>0</td>\n",
              "      <td>0</td>\n",
              "      <td>4</td>\n",
              "      <td>0</td>\n",
              "      <td>4</td>\n",
              "      <td>2</td>\n",
              "      <td>3</td>\n",
              "      <td>0</td>\n",
              "    </tr>\n",
              "    <tr>\n",
              "      <th>movie_6</th>\n",
              "      <td>4</td>\n",
              "      <td>4</td>\n",
              "      <td>0</td>\n",
              "      <td>0</td>\n",
              "      <td>4</td>\n",
              "      <td>4</td>\n",
              "      <td>3</td>\n",
              "      <td>4</td>\n",
              "      <td>0</td>\n",
              "      <td>4</td>\n",
              "    </tr>\n",
              "    <tr>\n",
              "      <th>movie_7</th>\n",
              "      <td>5</td>\n",
              "      <td>0</td>\n",
              "      <td>4</td>\n",
              "      <td>2</td>\n",
              "      <td>3</td>\n",
              "      <td>0</td>\n",
              "      <td>3</td>\n",
              "      <td>3</td>\n",
              "      <td>3</td>\n",
              "      <td>3</td>\n",
              "    </tr>\n",
              "    <tr>\n",
              "      <th>movie_8</th>\n",
              "      <td>0</td>\n",
              "      <td>3</td>\n",
              "      <td>0</td>\n",
              "      <td>0</td>\n",
              "      <td>5</td>\n",
              "      <td>5</td>\n",
              "      <td>0</td>\n",
              "      <td>4</td>\n",
              "      <td>0</td>\n",
              "      <td>0</td>\n",
              "    </tr>\n",
              "    <tr>\n",
              "      <th>movie_9</th>\n",
              "      <td>2</td>\n",
              "      <td>0</td>\n",
              "      <td>0</td>\n",
              "      <td>0</td>\n",
              "      <td>0</td>\n",
              "      <td>0</td>\n",
              "      <td>0</td>\n",
              "      <td>0</td>\n",
              "      <td>4</td>\n",
              "      <td>0</td>\n",
              "    </tr>\n",
              "  </tbody>\n",
              "</table>\n",
              "</div>\n",
              "      <button class=\"colab-df-convert\" onclick=\"convertToInteractive('df-c16d4476-d108-44db-8f1f-e2b3859e944e')\"\n",
              "              title=\"Convert this dataframe to an interactive table.\"\n",
              "              style=\"display:none;\">\n",
              "        \n",
              "  <svg xmlns=\"http://www.w3.org/2000/svg\" height=\"24px\"viewBox=\"0 0 24 24\"\n",
              "       width=\"24px\">\n",
              "    <path d=\"M0 0h24v24H0V0z\" fill=\"none\"/>\n",
              "    <path d=\"M18.56 5.44l.94 2.06.94-2.06 2.06-.94-2.06-.94-.94-2.06-.94 2.06-2.06.94zm-11 1L8.5 8.5l.94-2.06 2.06-.94-2.06-.94L8.5 2.5l-.94 2.06-2.06.94zm10 10l.94 2.06.94-2.06 2.06-.94-2.06-.94-.94-2.06-.94 2.06-2.06.94z\"/><path d=\"M17.41 7.96l-1.37-1.37c-.4-.4-.92-.59-1.43-.59-.52 0-1.04.2-1.43.59L10.3 9.45l-7.72 7.72c-.78.78-.78 2.05 0 2.83L4 21.41c.39.39.9.59 1.41.59.51 0 1.02-.2 1.41-.59l7.78-7.78 2.81-2.81c.8-.78.8-2.07 0-2.86zM5.41 20L4 18.59l7.72-7.72 1.47 1.35L5.41 20z\"/>\n",
              "  </svg>\n",
              "      </button>\n",
              "      \n",
              "  <style>\n",
              "    .colab-df-container {\n",
              "      display:flex;\n",
              "      flex-wrap:wrap;\n",
              "      gap: 12px;\n",
              "    }\n",
              "\n",
              "    .colab-df-convert {\n",
              "      background-color: #E8F0FE;\n",
              "      border: none;\n",
              "      border-radius: 50%;\n",
              "      cursor: pointer;\n",
              "      display: none;\n",
              "      fill: #1967D2;\n",
              "      height: 32px;\n",
              "      padding: 0 0 0 0;\n",
              "      width: 32px;\n",
              "    }\n",
              "\n",
              "    .colab-df-convert:hover {\n",
              "      background-color: #E2EBFA;\n",
              "      box-shadow: 0px 1px 2px rgba(60, 64, 67, 0.3), 0px 1px 3px 1px rgba(60, 64, 67, 0.15);\n",
              "      fill: #174EA6;\n",
              "    }\n",
              "\n",
              "    [theme=dark] .colab-df-convert {\n",
              "      background-color: #3B4455;\n",
              "      fill: #D2E3FC;\n",
              "    }\n",
              "\n",
              "    [theme=dark] .colab-df-convert:hover {\n",
              "      background-color: #434B5C;\n",
              "      box-shadow: 0px 1px 3px 1px rgba(0, 0, 0, 0.15);\n",
              "      filter: drop-shadow(0px 1px 2px rgba(0, 0, 0, 0.3));\n",
              "      fill: #FFFFFF;\n",
              "    }\n",
              "  </style>\n",
              "\n",
              "      <script>\n",
              "        const buttonEl =\n",
              "          document.querySelector('#df-c16d4476-d108-44db-8f1f-e2b3859e944e button.colab-df-convert');\n",
              "        buttonEl.style.display =\n",
              "          google.colab.kernel.accessAllowed ? 'block' : 'none';\n",
              "\n",
              "        async function convertToInteractive(key) {\n",
              "          const element = document.querySelector('#df-c16d4476-d108-44db-8f1f-e2b3859e944e');\n",
              "          const dataTable =\n",
              "            await google.colab.kernel.invokeFunction('convertToInteractive',\n",
              "                                                     [key], {});\n",
              "          if (!dataTable) return;\n",
              "\n",
              "          const docLinkHtml = 'Like what you see? Visit the ' +\n",
              "            '<a target=\"_blank\" href=https://colab.research.google.com/notebooks/data_table.ipynb>data table notebook</a>'\n",
              "            + ' to learn more about interactive tables.';\n",
              "          element.innerHTML = '';\n",
              "          dataTable['output_type'] = 'display_data';\n",
              "          await google.colab.output.renderOutput(dataTable, element);\n",
              "          const docLink = document.createElement('div');\n",
              "          docLink.innerHTML = docLinkHtml;\n",
              "          element.appendChild(docLink);\n",
              "        }\n",
              "      </script>\n",
              "    </div>\n",
              "  </div>\n",
              "  "
            ]
          },
          "metadata": {},
          "execution_count": 27
        }
      ]
    },
    {
      "cell_type": "code",
      "source": [
        "df.values"
      ],
      "metadata": {
        "colab": {
          "base_uri": "https://localhost:8080/"
        },
        "id": "tgvuznRu9ryH",
        "outputId": "a340af9a-82f8-499e-a8dc-1c25d7ce7ed7"
      },
      "execution_count": null,
      "outputs": [
        {
          "output_type": "execute_result",
          "data": {
            "text/plain": [
              "array([[0, 0, 3, 4, 2, 1, 2, 0, 5, 1],\n",
              "       [3, 0, 1, 3, 0, 0, 0, 0, 0, 0],\n",
              "       [0, 3, 0, 4, 0, 2, 0, 0, 0, 2],\n",
              "       [5, 2, 3, 2, 0, 4, 3, 3, 0, 0],\n",
              "       [0, 5, 5, 0, 0, 0, 0, 0, 5, 4],\n",
              "       [0, 0, 0, 0, 4, 0, 4, 2, 3, 0],\n",
              "       [4, 4, 0, 0, 4, 4, 3, 4, 0, 4],\n",
              "       [5, 0, 4, 2, 3, 0, 3, 3, 3, 3],\n",
              "       [0, 3, 0, 0, 5, 5, 0, 4, 0, 0],\n",
              "       [2, 0, 0, 0, 0, 0, 0, 0, 4, 0]])"
            ]
          },
          "metadata": {},
          "execution_count": 28
        }
      ]
    },
    {
      "cell_type": "markdown",
      "source": [
        "Let's use NearestNeighbors() to calculate the distance between movies using cosine similarity and find the most similar movies for each movie."
      ],
      "metadata": {
        "id": "zoedkIya9u7s"
      }
    },
    {
      "cell_type": "code",
      "source": [
        "from sklearn.neighbors import NearestNeighbors"
      ],
      "metadata": {
        "id": "bkMzxV5q9vh3"
      },
      "execution_count": null,
      "outputs": []
    },
    {
      "cell_type": "code",
      "source": [
        "knn = NearestNeighbors(metric='cosine', algorithm='brute')\n",
        "knn.fit(df.values)\n",
        "distances, indices = knn.kneighbors(df.values, n_neighbors=3)"
      ],
      "metadata": {
        "id": "2spd1Bpk91jJ"
      },
      "execution_count": null,
      "outputs": []
    },
    {
      "cell_type": "code",
      "source": [
        "indices"
      ],
      "metadata": {
        "colab": {
          "base_uri": "https://localhost:8080/"
        },
        "id": "Wj8rVhRf934k",
        "outputId": "440d1c1b-1a84-43e4-b34c-3527dd9da119"
      },
      "execution_count": null,
      "outputs": [
        {
          "output_type": "execute_result",
          "data": {
            "text/plain": [
              "array([[0, 7, 5],\n",
              "       [1, 3, 7],\n",
              "       [2, 1, 6],\n",
              "       [3, 6, 7],\n",
              "       [4, 0, 7],\n",
              "       [5, 7, 0],\n",
              "       [6, 8, 3],\n",
              "       [7, 3, 0],\n",
              "       [8, 6, 3],\n",
              "       [9, 0, 7]])"
            ]
          },
          "metadata": {},
          "execution_count": 31
        }
      ]
    },
    {
      "cell_type": "code",
      "source": [
        "distances"
      ],
      "metadata": {
        "colab": {
          "base_uri": "https://localhost:8080/"
        },
        "id": "HXCLmz2l96aq",
        "outputId": "19a08552-eae7-4fc6-fe2b-638ee3202b5a"
      },
      "execution_count": null,
      "outputs": [
        {
          "output_type": "execute_result",
          "data": {
            "text/plain": [
              "array([[0.00000000e+00, 3.19586183e-01, 4.03404722e-01],\n",
              "       [4.44089210e-16, 3.68421053e-01, 3.95436458e-01],\n",
              "       [0.00000000e+00, 5.20766162e-01, 5.24329288e-01],\n",
              "       [2.22044605e-16, 2.72367798e-01, 2.86615021e-01],\n",
              "       [0.00000000e+00, 4.04534842e-01, 4.80655057e-01],\n",
              "       [0.00000000e+00, 3.87174123e-01, 4.03404722e-01],\n",
              "       [0.00000000e+00, 2.33726809e-01, 2.72367798e-01],\n",
              "       [1.11022302e-16, 2.86615021e-01, 3.19586183e-01],\n",
              "       [2.22044605e-16, 2.33726809e-01, 4.96677704e-01],\n",
              "       [1.11022302e-16, 4.22649731e-01, 4.81455027e-01]])"
            ]
          },
          "metadata": {},
          "execution_count": 32
        }
      ]
    },
    {
      "cell_type": "code",
      "source": [
        "for title in df.index:\n",
        "\n",
        "  index_user_likes = df.index.tolist().index(title) # get an index for a movie\n",
        "  sim_movies = indices[index_user_likes].tolist() # make list for similar movies\n",
        "  movie_distances = distances[index_user_likes].tolist() # the list for distances of similar movies\n",
        "  id_movie = sim_movies.index(index_user_likes) # get the position of the movie itself in indices and distances\n",
        "\n",
        "  print('Similar Movies to '+str(df.index[index_user_likes])+':\\n')\n",
        "\n",
        "\n",
        "  sim_movies.remove(index_user_likes) # remove the movie itself in indices\n",
        "  movie_distances.pop(id_movie) # remove the movie itself in distances\n",
        "\n",
        "  j = 1\n",
        "  \n",
        "  for i in sim_movies:\n",
        "    print(str(j)+': '+str(df.index[i])+', the distance with '+str(title)+': '+str(movie_distances[j-1]))\n",
        "    j = j + 1\n",
        "      \n",
        "  print('\\n')"
      ],
      "metadata": {
        "colab": {
          "base_uri": "https://localhost:8080/"
        },
        "id": "NKVn3TAp99bn",
        "outputId": "ece5d4ae-f969-4723-8574-40ba7fd0e4e8"
      },
      "execution_count": null,
      "outputs": [
        {
          "output_type": "stream",
          "name": "stdout",
          "text": [
            "Similar Movies to movie_0:\n",
            "\n",
            "1: movie_7, the distance with movie_0: 0.3195861825602283\n",
            "2: movie_5, the distance with movie_0: 0.40340472183738674\n",
            "\n",
            "\n",
            "Similar Movies to movie_1:\n",
            "\n",
            "1: movie_3, the distance with movie_1: 0.3684210526315791\n",
            "2: movie_7, the distance with movie_1: 0.39543645824165696\n",
            "\n",
            "\n",
            "Similar Movies to movie_2:\n",
            "\n",
            "1: movie_1, the distance with movie_2: 0.5207661617014769\n",
            "2: movie_6, the distance with movie_2: 0.5243292879915494\n",
            "\n",
            "\n",
            "Similar Movies to movie_3:\n",
            "\n",
            "1: movie_6, the distance with movie_3: 0.27236779788557686\n",
            "2: movie_7, the distance with movie_3: 0.2866150207251553\n",
            "\n",
            "\n",
            "Similar Movies to movie_4:\n",
            "\n",
            "1: movie_0, the distance with movie_4: 0.40453484184315647\n",
            "2: movie_7, the distance with movie_4: 0.4806550570967598\n",
            "\n",
            "\n",
            "Similar Movies to movie_5:\n",
            "\n",
            "1: movie_7, the distance with movie_5: 0.38717412297165876\n",
            "2: movie_0, the distance with movie_5: 0.40340472183738674\n",
            "\n",
            "\n",
            "Similar Movies to movie_6:\n",
            "\n",
            "1: movie_8, the distance with movie_6: 0.23372680904614496\n",
            "2: movie_3, the distance with movie_6: 0.27236779788557686\n",
            "\n",
            "\n",
            "Similar Movies to movie_7:\n",
            "\n",
            "1: movie_3, the distance with movie_7: 0.2866150207251553\n",
            "2: movie_0, the distance with movie_7: 0.3195861825602283\n",
            "\n",
            "\n",
            "Similar Movies to movie_8:\n",
            "\n",
            "1: movie_6, the distance with movie_8: 0.23372680904614496\n",
            "2: movie_3, the distance with movie_8: 0.49667770431528346\n",
            "\n",
            "\n",
            "Similar Movies to movie_9:\n",
            "\n",
            "1: movie_0, the distance with movie_9: 0.42264973081037427\n",
            "2: movie_7, the distance with movie_9: 0.4814550271298651\n",
            "\n",
            "\n"
          ]
        }
      ]
    },
    {
      "cell_type": "markdown",
      "source": [
        "###Recommend Similar Movies to a Selected Movie"
      ],
      "metadata": {
        "id": "lXdOoeYN-BgW"
      }
    },
    {
      "cell_type": "code",
      "source": [
        "def recommend_movie(title):\n",
        "\n",
        "  index_user_likes = df.index.tolist().index(title) # get an index for a movie\n",
        "  sim_movies = indices[index_user_likes].tolist() # make list for similar movies\n",
        "  movie_distances = distances[index_user_likes].tolist() # the list for distances of similar movies\n",
        "  id_movie = sim_movies.index(index_user_likes) # get the position of the movie itself in indices and distances\n",
        "\n",
        "  print('Similar Movies to '+str(df.index[index_user_likes])+': \\n')\n",
        "\n",
        "  sim_movies.remove(index_user_likes) # remove the movie itself in indices\n",
        "  movie_distances.pop(id_movie) # remove the movie itself in distances\n",
        "\n",
        "  j = 1\n",
        "    \n",
        "  for i in sim_movies:\n",
        "    print(str(j)+': '+str(df.index[i])+', the distance with '+str(title)+': '+str(movie_distances[j-1]))\n",
        "    j = j + 1"
      ],
      "metadata": {
        "id": "IizkLDIL-Cg-"
      },
      "execution_count": null,
      "outputs": []
    },
    {
      "cell_type": "code",
      "source": [
        "recommend_movie('movie_3')"
      ],
      "metadata": {
        "colab": {
          "base_uri": "https://localhost:8080/"
        },
        "id": "sIj8-azS-GX3",
        "outputId": "e9f1de60-f5f4-47e0-a565-3d350c50eab4"
      },
      "execution_count": null,
      "outputs": [
        {
          "output_type": "stream",
          "name": "stdout",
          "text": [
            "Similar Movies to movie_3: \n",
            "\n",
            "1: movie_6, the distance with movie_3: 0.27236779788557686\n",
            "2: movie_7, the distance with movie_3: 0.2866150207251553\n"
          ]
        }
      ]
    },
    {
      "cell_type": "markdown",
      "source": [
        "###Recommend Movies for a Selected User"
      ],
      "metadata": {
        "id": "aTg_IV0J-O1s"
      }
    },
    {
      "cell_type": "code",
      "source": [
        "df"
      ],
      "metadata": {
        "colab": {
          "base_uri": "https://localhost:8080/",
          "height": 363
        },
        "id": "pGG8ReW4-Pul",
        "outputId": "58ae89ad-947c-4530-80f6-e0c7400f2263"
      },
      "execution_count": null,
      "outputs": [
        {
          "output_type": "execute_result",
          "data": {
            "text/plain": [
              "         user_0  user_1  user_2  user_3  user_4  user_5  user_6  user_7  \\\n",
              "movie_0       0       0       3       4       2       1       2       0   \n",
              "movie_1       3       0       1       3       0       0       0       0   \n",
              "movie_2       0       3       0       4       0       2       0       0   \n",
              "movie_3       5       2       3       2       0       4       3       3   \n",
              "movie_4       0       5       5       0       0       0       0       0   \n",
              "movie_5       0       0       0       0       4       0       4       2   \n",
              "movie_6       4       4       0       0       4       4       3       4   \n",
              "movie_7       5       0       4       2       3       0       3       3   \n",
              "movie_8       0       3       0       0       5       5       0       4   \n",
              "movie_9       2       0       0       0       0       0       0       0   \n",
              "\n",
              "         user_8  user_9  \n",
              "movie_0       5       1  \n",
              "movie_1       0       0  \n",
              "movie_2       0       2  \n",
              "movie_3       0       0  \n",
              "movie_4       5       4  \n",
              "movie_5       3       0  \n",
              "movie_6       0       4  \n",
              "movie_7       3       3  \n",
              "movie_8       0       0  \n",
              "movie_9       4       0  "
            ],
            "text/html": [
              "\n",
              "  <div id=\"df-e7037f13-5620-457a-929a-b57bed193e30\">\n",
              "    <div class=\"colab-df-container\">\n",
              "      <div>\n",
              "<style scoped>\n",
              "    .dataframe tbody tr th:only-of-type {\n",
              "        vertical-align: middle;\n",
              "    }\n",
              "\n",
              "    .dataframe tbody tr th {\n",
              "        vertical-align: top;\n",
              "    }\n",
              "\n",
              "    .dataframe thead th {\n",
              "        text-align: right;\n",
              "    }\n",
              "</style>\n",
              "<table border=\"1\" class=\"dataframe\">\n",
              "  <thead>\n",
              "    <tr style=\"text-align: right;\">\n",
              "      <th></th>\n",
              "      <th>user_0</th>\n",
              "      <th>user_1</th>\n",
              "      <th>user_2</th>\n",
              "      <th>user_3</th>\n",
              "      <th>user_4</th>\n",
              "      <th>user_5</th>\n",
              "      <th>user_6</th>\n",
              "      <th>user_7</th>\n",
              "      <th>user_8</th>\n",
              "      <th>user_9</th>\n",
              "    </tr>\n",
              "  </thead>\n",
              "  <tbody>\n",
              "    <tr>\n",
              "      <th>movie_0</th>\n",
              "      <td>0</td>\n",
              "      <td>0</td>\n",
              "      <td>3</td>\n",
              "      <td>4</td>\n",
              "      <td>2</td>\n",
              "      <td>1</td>\n",
              "      <td>2</td>\n",
              "      <td>0</td>\n",
              "      <td>5</td>\n",
              "      <td>1</td>\n",
              "    </tr>\n",
              "    <tr>\n",
              "      <th>movie_1</th>\n",
              "      <td>3</td>\n",
              "      <td>0</td>\n",
              "      <td>1</td>\n",
              "      <td>3</td>\n",
              "      <td>0</td>\n",
              "      <td>0</td>\n",
              "      <td>0</td>\n",
              "      <td>0</td>\n",
              "      <td>0</td>\n",
              "      <td>0</td>\n",
              "    </tr>\n",
              "    <tr>\n",
              "      <th>movie_2</th>\n",
              "      <td>0</td>\n",
              "      <td>3</td>\n",
              "      <td>0</td>\n",
              "      <td>4</td>\n",
              "      <td>0</td>\n",
              "      <td>2</td>\n",
              "      <td>0</td>\n",
              "      <td>0</td>\n",
              "      <td>0</td>\n",
              "      <td>2</td>\n",
              "    </tr>\n",
              "    <tr>\n",
              "      <th>movie_3</th>\n",
              "      <td>5</td>\n",
              "      <td>2</td>\n",
              "      <td>3</td>\n",
              "      <td>2</td>\n",
              "      <td>0</td>\n",
              "      <td>4</td>\n",
              "      <td>3</td>\n",
              "      <td>3</td>\n",
              "      <td>0</td>\n",
              "      <td>0</td>\n",
              "    </tr>\n",
              "    <tr>\n",
              "      <th>movie_4</th>\n",
              "      <td>0</td>\n",
              "      <td>5</td>\n",
              "      <td>5</td>\n",
              "      <td>0</td>\n",
              "      <td>0</td>\n",
              "      <td>0</td>\n",
              "      <td>0</td>\n",
              "      <td>0</td>\n",
              "      <td>5</td>\n",
              "      <td>4</td>\n",
              "    </tr>\n",
              "    <tr>\n",
              "      <th>movie_5</th>\n",
              "      <td>0</td>\n",
              "      <td>0</td>\n",
              "      <td>0</td>\n",
              "      <td>0</td>\n",
              "      <td>4</td>\n",
              "      <td>0</td>\n",
              "      <td>4</td>\n",
              "      <td>2</td>\n",
              "      <td>3</td>\n",
              "      <td>0</td>\n",
              "    </tr>\n",
              "    <tr>\n",
              "      <th>movie_6</th>\n",
              "      <td>4</td>\n",
              "      <td>4</td>\n",
              "      <td>0</td>\n",
              "      <td>0</td>\n",
              "      <td>4</td>\n",
              "      <td>4</td>\n",
              "      <td>3</td>\n",
              "      <td>4</td>\n",
              "      <td>0</td>\n",
              "      <td>4</td>\n",
              "    </tr>\n",
              "    <tr>\n",
              "      <th>movie_7</th>\n",
              "      <td>5</td>\n",
              "      <td>0</td>\n",
              "      <td>4</td>\n",
              "      <td>2</td>\n",
              "      <td>3</td>\n",
              "      <td>0</td>\n",
              "      <td>3</td>\n",
              "      <td>3</td>\n",
              "      <td>3</td>\n",
              "      <td>3</td>\n",
              "    </tr>\n",
              "    <tr>\n",
              "      <th>movie_8</th>\n",
              "      <td>0</td>\n",
              "      <td>3</td>\n",
              "      <td>0</td>\n",
              "      <td>0</td>\n",
              "      <td>5</td>\n",
              "      <td>5</td>\n",
              "      <td>0</td>\n",
              "      <td>4</td>\n",
              "      <td>0</td>\n",
              "      <td>0</td>\n",
              "    </tr>\n",
              "    <tr>\n",
              "      <th>movie_9</th>\n",
              "      <td>2</td>\n",
              "      <td>0</td>\n",
              "      <td>0</td>\n",
              "      <td>0</td>\n",
              "      <td>0</td>\n",
              "      <td>0</td>\n",
              "      <td>0</td>\n",
              "      <td>0</td>\n",
              "      <td>4</td>\n",
              "      <td>0</td>\n",
              "    </tr>\n",
              "  </tbody>\n",
              "</table>\n",
              "</div>\n",
              "      <button class=\"colab-df-convert\" onclick=\"convertToInteractive('df-e7037f13-5620-457a-929a-b57bed193e30')\"\n",
              "              title=\"Convert this dataframe to an interactive table.\"\n",
              "              style=\"display:none;\">\n",
              "        \n",
              "  <svg xmlns=\"http://www.w3.org/2000/svg\" height=\"24px\"viewBox=\"0 0 24 24\"\n",
              "       width=\"24px\">\n",
              "    <path d=\"M0 0h24v24H0V0z\" fill=\"none\"/>\n",
              "    <path d=\"M18.56 5.44l.94 2.06.94-2.06 2.06-.94-2.06-.94-.94-2.06-.94 2.06-2.06.94zm-11 1L8.5 8.5l.94-2.06 2.06-.94-2.06-.94L8.5 2.5l-.94 2.06-2.06.94zm10 10l.94 2.06.94-2.06 2.06-.94-2.06-.94-.94-2.06-.94 2.06-2.06.94z\"/><path d=\"M17.41 7.96l-1.37-1.37c-.4-.4-.92-.59-1.43-.59-.52 0-1.04.2-1.43.59L10.3 9.45l-7.72 7.72c-.78.78-.78 2.05 0 2.83L4 21.41c.39.39.9.59 1.41.59.51 0 1.02-.2 1.41-.59l7.78-7.78 2.81-2.81c.8-.78.8-2.07 0-2.86zM5.41 20L4 18.59l7.72-7.72 1.47 1.35L5.41 20z\"/>\n",
              "  </svg>\n",
              "      </button>\n",
              "      \n",
              "  <style>\n",
              "    .colab-df-container {\n",
              "      display:flex;\n",
              "      flex-wrap:wrap;\n",
              "      gap: 12px;\n",
              "    }\n",
              "\n",
              "    .colab-df-convert {\n",
              "      background-color: #E8F0FE;\n",
              "      border: none;\n",
              "      border-radius: 50%;\n",
              "      cursor: pointer;\n",
              "      display: none;\n",
              "      fill: #1967D2;\n",
              "      height: 32px;\n",
              "      padding: 0 0 0 0;\n",
              "      width: 32px;\n",
              "    }\n",
              "\n",
              "    .colab-df-convert:hover {\n",
              "      background-color: #E2EBFA;\n",
              "      box-shadow: 0px 1px 2px rgba(60, 64, 67, 0.3), 0px 1px 3px 1px rgba(60, 64, 67, 0.15);\n",
              "      fill: #174EA6;\n",
              "    }\n",
              "\n",
              "    [theme=dark] .colab-df-convert {\n",
              "      background-color: #3B4455;\n",
              "      fill: #D2E3FC;\n",
              "    }\n",
              "\n",
              "    [theme=dark] .colab-df-convert:hover {\n",
              "      background-color: #434B5C;\n",
              "      box-shadow: 0px 1px 3px 1px rgba(0, 0, 0, 0.15);\n",
              "      filter: drop-shadow(0px 1px 2px rgba(0, 0, 0, 0.3));\n",
              "      fill: #FFFFFF;\n",
              "    }\n",
              "  </style>\n",
              "\n",
              "      <script>\n",
              "        const buttonEl =\n",
              "          document.querySelector('#df-e7037f13-5620-457a-929a-b57bed193e30 button.colab-df-convert');\n",
              "        buttonEl.style.display =\n",
              "          google.colab.kernel.accessAllowed ? 'block' : 'none';\n",
              "\n",
              "        async function convertToInteractive(key) {\n",
              "          const element = document.querySelector('#df-e7037f13-5620-457a-929a-b57bed193e30');\n",
              "          const dataTable =\n",
              "            await google.colab.kernel.invokeFunction('convertToInteractive',\n",
              "                                                     [key], {});\n",
              "          if (!dataTable) return;\n",
              "\n",
              "          const docLinkHtml = 'Like what you see? Visit the ' +\n",
              "            '<a target=\"_blank\" href=https://colab.research.google.com/notebooks/data_table.ipynb>data table notebook</a>'\n",
              "            + ' to learn more about interactive tables.';\n",
              "          element.innerHTML = '';\n",
              "          dataTable['output_type'] = 'display_data';\n",
              "          await google.colab.output.renderOutput(dataTable, element);\n",
              "          const docLink = document.createElement('div');\n",
              "          docLink.innerHTML = docLinkHtml;\n",
              "          element.appendChild(docLink);\n",
              "        }\n",
              "      </script>\n",
              "    </div>\n",
              "  </div>\n",
              "  "
            ]
          },
          "metadata": {},
          "execution_count": 36
        }
      ]
    },
    {
      "cell_type": "code",
      "source": [
        "knn = NearestNeighbors(metric='cosine', algorithm='brute')\n",
        "knn.fit(df.values)\n",
        "distances, indices = knn.kneighbors(df.values, n_neighbors=3)"
      ],
      "metadata": {
        "id": "oPywHQfl-TzK"
      },
      "execution_count": null,
      "outputs": []
    },
    {
      "cell_type": "code",
      "source": [
        "index_for_movie = df.index.tolist().index('movie_0') # it returns 0\n",
        "sim_movies = indices[index_for_movie].tolist() # make list for similar movies\n",
        "movie_distances = distances[index_for_movie].tolist() # the list for distances of similar movies\n",
        "id_movie = sim_movies.index(index_for_movie) # get the position of the movie itself in indices and distances\n",
        "sim_movies.remove(index_for_movie) # remove the movie itself in indices\n",
        "movie_distances.pop(id_movie) # remove the movie itself in distances\n",
        "\n",
        "print('The Nearest Movies to movie_0:', sim_movies)\n",
        "print('The Distance from movie_0:', movie_distances)"
      ],
      "metadata": {
        "colab": {
          "base_uri": "https://localhost:8080/"
        },
        "id": "88eTNL_G-WQR",
        "outputId": "a5e6a2b6-583d-4862-e580-0a708c0ea6b7"
      },
      "execution_count": null,
      "outputs": [
        {
          "output_type": "stream",
          "name": "stdout",
          "text": [
            "The Nearest Movies to movie_0: [7, 5]\n",
            "The Distance from movie_0: [0.3195861825602283, 0.40340472183738674]\n"
          ]
        }
      ]
    },
    {
      "cell_type": "code",
      "source": [
        "movie_similarity = [-x+1 for x in movie_distances] # inverse distance \n",
        "\n",
        "predicted_rating = (movie_similarity[0]*df.iloc[sim_movies[0],7] + movie_similarity[1]*df.iloc[sim_movies[1],7])/sum(movie_similarity)\n",
        "print(predicted_rating)"
      ],
      "metadata": {
        "colab": {
          "base_uri": "https://localhost:8080/"
        },
        "id": "9Aw-Cav2-ZX-",
        "outputId": "8d2ef56f-52fa-4d0f-e303-2af62471e0f1"
      },
      "execution_count": null,
      "outputs": [
        {
          "output_type": "stream",
          "name": "stdout",
          "text": [
            "2.5328183015946415\n"
          ]
        }
      ]
    },
    {
      "cell_type": "markdown",
      "source": [
        "###Build Recommender"
      ],
      "metadata": {
        "id": "vyUh3DdZ-aNA"
      }
    },
    {
      "cell_type": "code",
      "source": [
        "# find the nearest neighbors using NearestNeighbors(n_neighbors=3)\n",
        "number_neighbors = 3\n",
        "knn = NearestNeighbors(metric='cosine', algorithm='brute')\n",
        "knn.fit(df.values)\n",
        "distances, indices = knn.kneighbors(df.values, n_neighbors=number_neighbors)\n",
        "\n",
        "# copy df\n",
        "df1 = df.copy()\n",
        "\n",
        "# convert user_name to user_index\n",
        "user_index = df.columns.tolist().index('user_4')\n",
        "\n",
        "# t: movie_title, m: the row number of t in df\n",
        "for m,t in list(enumerate(df.index)):\n",
        "  \n",
        "  # find movies without ratings by user_4\n",
        "  if df.iloc[m, user_index] == 0:\n",
        "    sim_movies = indices[m].tolist()\n",
        "    movie_distances = distances[m].tolist()\n",
        "    \n",
        "    # Generally, this is the case: indices[3] = [3 6 7]. The movie itself is in the first place.\n",
        "    # In this case, we take off 3 from the list. Then, indices[3] == [6 7] to have the nearest NEIGHBORS in the list. \n",
        "    if m in sim_movies:\n",
        "      id_movie = sim_movies.index(m)\n",
        "      sim_movies.remove(m)\n",
        "      movie_distances.pop(id_movie) \n",
        "\n",
        "    # However, if the percentage of ratings in the dataset is very low, there are too many 0s in the dataset. \n",
        "    # Some movies have all 0 ratings and the movies with all 0s are considered the same movies by NearestNeighbors(). \n",
        "    # Then,even the movie itself cannot be included in the indices. \n",
        "    # For example, indices[3] = [2 4 7] is possible if movie_2, movie_3, movie_4, and movie_7 have all 0s for their ratings.\n",
        "    # In that case, we take off the farthest movie in the list. Therefore, 7 is taken off from the list, then indices[3] == [2 4].\n",
        "    else:\n",
        "      sim_movies = sim_movies[:number_neighbors-1]\n",
        "      movie_distances = movie_distances[:number_neighbors-1]\n",
        "        \n",
        "    # movie_similarty = 1 - movie_distance    \n",
        "    movie_similarity = [1-x for x in movie_distances]\n",
        "    movie_similarity_copy = movie_similarity.copy()\n",
        "    nominator = 0\n",
        "\n",
        "    # for each similar movie\n",
        "    for s in range(0, len(movie_similarity)):\n",
        "      \n",
        "      # check if the rating of a similar movie is zero\n",
        "      if df.iloc[sim_movies[s], user_index] == 0:\n",
        "\n",
        "        # if the rating is zero, ignore the rating and the similarity in calculating the predicted rating\n",
        "        if len(movie_similarity_copy) == (number_neighbors - 1):\n",
        "          movie_similarity_copy.pop(s)\n",
        "          \n",
        "        else:\n",
        "          movie_similarity_copy.pop(s-(len(movie_similarity)-len(movie_similarity_copy)))\n",
        "\n",
        "      # if the rating is not zero, use the rating and similarity in the calculation\n",
        "      else:\n",
        "        nominator = nominator + movie_similarity[s]*df.iloc[sim_movies[s],user_index]\n",
        "\n",
        "    # check if the number of the ratings with non-zero is positive\n",
        "    if len(movie_similarity_copy) > 0:\n",
        "      \n",
        "      # check if the sum of the ratings of the similar movies is positive.\n",
        "      if sum(movie_similarity_copy) > 0:\n",
        "        predicted_r = nominator/sum(movie_similarity_copy)\n",
        "\n",
        "      # Even if there are some movies for which the ratings are positive, some movies have zero similarity even though they are selected as similar movies.\n",
        "      # in this case, the predicted rating becomes zero as well  \n",
        "      else:\n",
        "        predicted_r = 0\n",
        "\n",
        "    # if all the ratings of the similar movies are zero, then predicted rating should be zero\n",
        "    else:\n",
        "      predicted_r = 0\n",
        "\n",
        "  # place the predicted rating into the copy of the original dataset\n",
        "    df1.iloc[m,user_index] = predicted_r"
      ],
      "metadata": {
        "id": "zIZ_ecwR-cHY"
      },
      "execution_count": null,
      "outputs": []
    },
    {
      "cell_type": "code",
      "source": [
        "def recommend_movies(user, num_recommended_movies):\n",
        "\n",
        "  print('The list of the Movies {} Has Watched \\n'.format(user))\n",
        "\n",
        "  for m in df[df[user] > 0][user].index.tolist():\n",
        "    print(m)\n",
        "  \n",
        "  print('\\n')\n",
        "\n",
        "  recommended_movies = []\n",
        "\n",
        "  for m in df[df[user] == 0].index.tolist():\n",
        "\n",
        "    index_df = df.index.tolist().index(m)\n",
        "    predicted_rating = df1.iloc[index_df, df1.columns.tolist().index(user)]\n",
        "    recommended_movies.append((m, predicted_rating))\n",
        "\n",
        "  sorted_rm = sorted(recommended_movies, key=lambda x:x[1], reverse=True)\n",
        "  \n",
        "  print('The list of the Recommended Movies \\n')\n",
        "  rank = 1\n",
        "  for recommended_movie in sorted_rm[:num_recommended_movies]:\n",
        "    \n",
        "    print('{}: {} - predicted rating:{}'.format(rank, recommended_movie[0], recommended_movie[1]))\n",
        "    rank = rank + 1"
      ],
      "metadata": {
        "id": "9c62BNBV-i5E"
      },
      "execution_count": null,
      "outputs": []
    },
    {
      "cell_type": "code",
      "source": [
        "recommend_movies('user_4',5)"
      ],
      "metadata": {
        "colab": {
          "base_uri": "https://localhost:8080/"
        },
        "id": "YluNEnUK-lOa",
        "outputId": "8365ef5b-84f1-409e-ed77-0919061389a4"
      },
      "execution_count": null,
      "outputs": [
        {
          "output_type": "stream",
          "name": "stdout",
          "text": [
            "The list of the Movies user_4 Has Watched \n",
            "\n",
            "movie_0\n",
            "movie_5\n",
            "movie_6\n",
            "movie_7\n",
            "movie_8\n",
            "\n",
            "\n",
            "The list of the Recommended Movies \n",
            "\n",
            "1: movie_2 - predicted rating:4.0\n",
            "2: movie_3 - predicted rating:3.504943460433221\n",
            "3: movie_1 - predicted rating:3.0\n",
            "4: movie_9 - predicted rating:2.473170201830165\n",
            "5: movie_4 - predicted rating:2.4658595597666277\n"
          ]
        }
      ]
    },
    {
      "cell_type": "code",
      "source": [
        "df1 = df.copy()\n",
        "\n",
        "def movie_recommender(user, num_neighbors, num_recommendation):\n",
        "  \n",
        "  number_neighbors = num_neighbors\n",
        "\n",
        "  knn = NearestNeighbors(metric='cosine', algorithm='brute')\n",
        "  knn.fit(df.values)\n",
        "  distances, indices = knn.kneighbors(df.values, n_neighbors=number_neighbors)\n",
        "\n",
        "  user_index = df.columns.tolist().index(user)\n",
        "\n",
        "  for m,t in list(enumerate(df.index)):\n",
        "    if df.iloc[m, user_index] == 0:\n",
        "      sim_movies = indices[m].tolist()\n",
        "      movie_distances = distances[m].tolist()\n",
        "    \n",
        "      if m in sim_movies:\n",
        "        id_movie = sim_movies.index(m)\n",
        "        sim_movies.remove(m)\n",
        "        movie_distances.pop(id_movie) \n",
        "\n",
        "      else:\n",
        "        sim_movies = sim_movies[:num_neighbors-1]\n",
        "        movie_distances = movie_distances[:num_neighbors-1]\n",
        "           \n",
        "      movie_similarity = [1-x for x in movie_distances]\n",
        "      movie_similarity_copy = movie_similarity.copy()\n",
        "      nominator = 0\n",
        "\n",
        "      for s in range(0, len(movie_similarity)):\n",
        "        if df.iloc[sim_movies[s], user_index] == 0:\n",
        "          if len(movie_similarity_copy) == (number_neighbors - 1):\n",
        "            movie_similarity_copy.pop(s)\n",
        "          \n",
        "          else:\n",
        "            movie_similarity_copy.pop(s-(len(movie_similarity)-len(movie_similarity_copy)))\n",
        "            \n",
        "        else:\n",
        "          nominator = nominator + movie_similarity[s]*df.iloc[sim_movies[s],user_index]\n",
        "          \n",
        "      if len(movie_similarity_copy) > 0:\n",
        "        if sum(movie_similarity_copy) > 0:\n",
        "          predicted_r = nominator/sum(movie_similarity_copy)\n",
        "        \n",
        "        else:\n",
        "          predicted_r = 0\n",
        "\n",
        "      else:\n",
        "        predicted_r = 0\n",
        "        \n",
        "      df1.iloc[m,user_index] = predicted_r\n",
        "  recommend_movies(user,num_recommendation)"
      ],
      "metadata": {
        "id": "mqZZgnzI-pcm"
      },
      "execution_count": null,
      "outputs": []
    },
    {
      "cell_type": "code",
      "source": [
        "movie_recommender('user_4', 4, 5)"
      ],
      "metadata": {
        "colab": {
          "base_uri": "https://localhost:8080/"
        },
        "id": "7St5Qlv4-rnd",
        "outputId": "db9efeba-c346-4f1c-d191-ab37cb011513"
      },
      "execution_count": null,
      "outputs": [
        {
          "output_type": "stream",
          "name": "stdout",
          "text": [
            "The list of the Movies user_4 Has Watched \n",
            "\n",
            "movie_0\n",
            "movie_5\n",
            "movie_6\n",
            "movie_7\n",
            "movie_8\n",
            "\n",
            "\n",
            "The list of the Recommended Movies \n",
            "\n",
            "1: movie_3 - predicted rating:3.504943460433221\n",
            "2: movie_2 - predicted rating:3.0283245929027296\n",
            "3: movie_1 - predicted rating:3.0\n",
            "4: movie_9 - predicted rating:2.473170201830165\n",
            "5: movie_4 - predicted rating:2.4658595597666277\n"
          ]
        }
      ]
    },
    {
      "cell_type": "markdown",
      "source": [
        "###Applying to the Real Movie Data from MovieLens"
      ],
      "metadata": {
        "id": "loTxSZSX-t5R"
      }
    },
    {
      "cell_type": "code",
      "source": [
        "from pydrive.auth import GoogleAuth\n",
        "from pydrive.drive import GoogleDrive\n",
        "from google.colab import auth\n",
        "from oauth2client.client import GoogleCredentials"
      ],
      "metadata": {
        "id": "IgV9_7fbAWdF"
      },
      "execution_count": null,
      "outputs": []
    },
    {
      "cell_type": "code",
      "source": [
        "auth.authenticate_user()\n",
        "gauth = GoogleAuth()\n",
        "gauth.credentials = GoogleCredentials.get_application_default()\n",
        "drive = GoogleDrive(gauth)"
      ],
      "metadata": {
        "id": "V0QeKEdHA0XB"
      },
      "execution_count": null,
      "outputs": []
    },
    {
      "cell_type": "code",
      "source": [
        "downloaded = drive.CreateFile({'id': '1U2EPDUp4Id5N9ID1XPABZasyebUkYuJM'}) \n",
        "downloaded.GetContentFile('movies.csv')  \n",
        "movies = pd.read_csv('movies.csv', usecols=['movieId','title'])\n",
        "movies.head()"
      ],
      "metadata": {
        "colab": {
          "base_uri": "https://localhost:8080/",
          "height": 206
        },
        "id": "DrcwvCQ_BThY",
        "outputId": "92678243-a2f6-4bc6-d67c-c0e8144da5a1"
      },
      "execution_count": null,
      "outputs": [
        {
          "output_type": "execute_result",
          "data": {
            "text/plain": [
              "   movieId                               title\n",
              "0        1                    Toy Story (1995)\n",
              "1        2                      Jumanji (1995)\n",
              "2        3             Grumpier Old Men (1995)\n",
              "3        4            Waiting to Exhale (1995)\n",
              "4        5  Father of the Bride Part II (1995)"
            ],
            "text/html": [
              "\n",
              "  <div id=\"df-2761ab92-118c-4b86-9ef2-6ed47f19f5e4\">\n",
              "    <div class=\"colab-df-container\">\n",
              "      <div>\n",
              "<style scoped>\n",
              "    .dataframe tbody tr th:only-of-type {\n",
              "        vertical-align: middle;\n",
              "    }\n",
              "\n",
              "    .dataframe tbody tr th {\n",
              "        vertical-align: top;\n",
              "    }\n",
              "\n",
              "    .dataframe thead th {\n",
              "        text-align: right;\n",
              "    }\n",
              "</style>\n",
              "<table border=\"1\" class=\"dataframe\">\n",
              "  <thead>\n",
              "    <tr style=\"text-align: right;\">\n",
              "      <th></th>\n",
              "      <th>movieId</th>\n",
              "      <th>title</th>\n",
              "    </tr>\n",
              "  </thead>\n",
              "  <tbody>\n",
              "    <tr>\n",
              "      <th>0</th>\n",
              "      <td>1</td>\n",
              "      <td>Toy Story (1995)</td>\n",
              "    </tr>\n",
              "    <tr>\n",
              "      <th>1</th>\n",
              "      <td>2</td>\n",
              "      <td>Jumanji (1995)</td>\n",
              "    </tr>\n",
              "    <tr>\n",
              "      <th>2</th>\n",
              "      <td>3</td>\n",
              "      <td>Grumpier Old Men (1995)</td>\n",
              "    </tr>\n",
              "    <tr>\n",
              "      <th>3</th>\n",
              "      <td>4</td>\n",
              "      <td>Waiting to Exhale (1995)</td>\n",
              "    </tr>\n",
              "    <tr>\n",
              "      <th>4</th>\n",
              "      <td>5</td>\n",
              "      <td>Father of the Bride Part II (1995)</td>\n",
              "    </tr>\n",
              "  </tbody>\n",
              "</table>\n",
              "</div>\n",
              "      <button class=\"colab-df-convert\" onclick=\"convertToInteractive('df-2761ab92-118c-4b86-9ef2-6ed47f19f5e4')\"\n",
              "              title=\"Convert this dataframe to an interactive table.\"\n",
              "              style=\"display:none;\">\n",
              "        \n",
              "  <svg xmlns=\"http://www.w3.org/2000/svg\" height=\"24px\"viewBox=\"0 0 24 24\"\n",
              "       width=\"24px\">\n",
              "    <path d=\"M0 0h24v24H0V0z\" fill=\"none\"/>\n",
              "    <path d=\"M18.56 5.44l.94 2.06.94-2.06 2.06-.94-2.06-.94-.94-2.06-.94 2.06-2.06.94zm-11 1L8.5 8.5l.94-2.06 2.06-.94-2.06-.94L8.5 2.5l-.94 2.06-2.06.94zm10 10l.94 2.06.94-2.06 2.06-.94-2.06-.94-.94-2.06-.94 2.06-2.06.94z\"/><path d=\"M17.41 7.96l-1.37-1.37c-.4-.4-.92-.59-1.43-.59-.52 0-1.04.2-1.43.59L10.3 9.45l-7.72 7.72c-.78.78-.78 2.05 0 2.83L4 21.41c.39.39.9.59 1.41.59.51 0 1.02-.2 1.41-.59l7.78-7.78 2.81-2.81c.8-.78.8-2.07 0-2.86zM5.41 20L4 18.59l7.72-7.72 1.47 1.35L5.41 20z\"/>\n",
              "  </svg>\n",
              "      </button>\n",
              "      \n",
              "  <style>\n",
              "    .colab-df-container {\n",
              "      display:flex;\n",
              "      flex-wrap:wrap;\n",
              "      gap: 12px;\n",
              "    }\n",
              "\n",
              "    .colab-df-convert {\n",
              "      background-color: #E8F0FE;\n",
              "      border: none;\n",
              "      border-radius: 50%;\n",
              "      cursor: pointer;\n",
              "      display: none;\n",
              "      fill: #1967D2;\n",
              "      height: 32px;\n",
              "      padding: 0 0 0 0;\n",
              "      width: 32px;\n",
              "    }\n",
              "\n",
              "    .colab-df-convert:hover {\n",
              "      background-color: #E2EBFA;\n",
              "      box-shadow: 0px 1px 2px rgba(60, 64, 67, 0.3), 0px 1px 3px 1px rgba(60, 64, 67, 0.15);\n",
              "      fill: #174EA6;\n",
              "    }\n",
              "\n",
              "    [theme=dark] .colab-df-convert {\n",
              "      background-color: #3B4455;\n",
              "      fill: #D2E3FC;\n",
              "    }\n",
              "\n",
              "    [theme=dark] .colab-df-convert:hover {\n",
              "      background-color: #434B5C;\n",
              "      box-shadow: 0px 1px 3px 1px rgba(0, 0, 0, 0.15);\n",
              "      filter: drop-shadow(0px 1px 2px rgba(0, 0, 0, 0.3));\n",
              "      fill: #FFFFFF;\n",
              "    }\n",
              "  </style>\n",
              "\n",
              "      <script>\n",
              "        const buttonEl =\n",
              "          document.querySelector('#df-2761ab92-118c-4b86-9ef2-6ed47f19f5e4 button.colab-df-convert');\n",
              "        buttonEl.style.display =\n",
              "          google.colab.kernel.accessAllowed ? 'block' : 'none';\n",
              "\n",
              "        async function convertToInteractive(key) {\n",
              "          const element = document.querySelector('#df-2761ab92-118c-4b86-9ef2-6ed47f19f5e4');\n",
              "          const dataTable =\n",
              "            await google.colab.kernel.invokeFunction('convertToInteractive',\n",
              "                                                     [key], {});\n",
              "          if (!dataTable) return;\n",
              "\n",
              "          const docLinkHtml = 'Like what you see? Visit the ' +\n",
              "            '<a target=\"_blank\" href=https://colab.research.google.com/notebooks/data_table.ipynb>data table notebook</a>'\n",
              "            + ' to learn more about interactive tables.';\n",
              "          element.innerHTML = '';\n",
              "          dataTable['output_type'] = 'display_data';\n",
              "          await google.colab.output.renderOutput(dataTable, element);\n",
              "          const docLink = document.createElement('div');\n",
              "          docLink.innerHTML = docLinkHtml;\n",
              "          element.appendChild(docLink);\n",
              "        }\n",
              "      </script>\n",
              "    </div>\n",
              "  </div>\n",
              "  "
            ]
          },
          "metadata": {},
          "execution_count": 48
        }
      ]
    },
    {
      "cell_type": "code",
      "source": [
        "downloaded = drive.CreateFile({'id': '13lIrWf_lNd_WbFL3RseQbFcn3EEkvXCp'})\n",
        "downloaded.GetContentFile('ratings.csv')\n",
        "ratings = pd.read_csv('ratings.csv', usecols=['userId','movieId','rating'])\n",
        "ratings.head()"
      ],
      "metadata": {
        "colab": {
          "base_uri": "https://localhost:8080/",
          "height": 206
        },
        "id": "8GVqzV_lBcWR",
        "outputId": "f50c150c-9bd6-40f4-a7af-77645d929e4d"
      },
      "execution_count": null,
      "outputs": [
        {
          "output_type": "execute_result",
          "data": {
            "text/plain": [
              "   userId  movieId  rating\n",
              "0       1        1     4.0\n",
              "1       1        3     4.0\n",
              "2       1        6     4.0\n",
              "3       1       47     5.0\n",
              "4       1       50     5.0"
            ],
            "text/html": [
              "\n",
              "  <div id=\"df-c9859c10-bf86-4615-8b5b-536474e9aa12\">\n",
              "    <div class=\"colab-df-container\">\n",
              "      <div>\n",
              "<style scoped>\n",
              "    .dataframe tbody tr th:only-of-type {\n",
              "        vertical-align: middle;\n",
              "    }\n",
              "\n",
              "    .dataframe tbody tr th {\n",
              "        vertical-align: top;\n",
              "    }\n",
              "\n",
              "    .dataframe thead th {\n",
              "        text-align: right;\n",
              "    }\n",
              "</style>\n",
              "<table border=\"1\" class=\"dataframe\">\n",
              "  <thead>\n",
              "    <tr style=\"text-align: right;\">\n",
              "      <th></th>\n",
              "      <th>userId</th>\n",
              "      <th>movieId</th>\n",
              "      <th>rating</th>\n",
              "    </tr>\n",
              "  </thead>\n",
              "  <tbody>\n",
              "    <tr>\n",
              "      <th>0</th>\n",
              "      <td>1</td>\n",
              "      <td>1</td>\n",
              "      <td>4.0</td>\n",
              "    </tr>\n",
              "    <tr>\n",
              "      <th>1</th>\n",
              "      <td>1</td>\n",
              "      <td>3</td>\n",
              "      <td>4.0</td>\n",
              "    </tr>\n",
              "    <tr>\n",
              "      <th>2</th>\n",
              "      <td>1</td>\n",
              "      <td>6</td>\n",
              "      <td>4.0</td>\n",
              "    </tr>\n",
              "    <tr>\n",
              "      <th>3</th>\n",
              "      <td>1</td>\n",
              "      <td>47</td>\n",
              "      <td>5.0</td>\n",
              "    </tr>\n",
              "    <tr>\n",
              "      <th>4</th>\n",
              "      <td>1</td>\n",
              "      <td>50</td>\n",
              "      <td>5.0</td>\n",
              "    </tr>\n",
              "  </tbody>\n",
              "</table>\n",
              "</div>\n",
              "      <button class=\"colab-df-convert\" onclick=\"convertToInteractive('df-c9859c10-bf86-4615-8b5b-536474e9aa12')\"\n",
              "              title=\"Convert this dataframe to an interactive table.\"\n",
              "              style=\"display:none;\">\n",
              "        \n",
              "  <svg xmlns=\"http://www.w3.org/2000/svg\" height=\"24px\"viewBox=\"0 0 24 24\"\n",
              "       width=\"24px\">\n",
              "    <path d=\"M0 0h24v24H0V0z\" fill=\"none\"/>\n",
              "    <path d=\"M18.56 5.44l.94 2.06.94-2.06 2.06-.94-2.06-.94-.94-2.06-.94 2.06-2.06.94zm-11 1L8.5 8.5l.94-2.06 2.06-.94-2.06-.94L8.5 2.5l-.94 2.06-2.06.94zm10 10l.94 2.06.94-2.06 2.06-.94-2.06-.94-.94-2.06-.94 2.06-2.06.94z\"/><path d=\"M17.41 7.96l-1.37-1.37c-.4-.4-.92-.59-1.43-.59-.52 0-1.04.2-1.43.59L10.3 9.45l-7.72 7.72c-.78.78-.78 2.05 0 2.83L4 21.41c.39.39.9.59 1.41.59.51 0 1.02-.2 1.41-.59l7.78-7.78 2.81-2.81c.8-.78.8-2.07 0-2.86zM5.41 20L4 18.59l7.72-7.72 1.47 1.35L5.41 20z\"/>\n",
              "  </svg>\n",
              "      </button>\n",
              "      \n",
              "  <style>\n",
              "    .colab-df-container {\n",
              "      display:flex;\n",
              "      flex-wrap:wrap;\n",
              "      gap: 12px;\n",
              "    }\n",
              "\n",
              "    .colab-df-convert {\n",
              "      background-color: #E8F0FE;\n",
              "      border: none;\n",
              "      border-radius: 50%;\n",
              "      cursor: pointer;\n",
              "      display: none;\n",
              "      fill: #1967D2;\n",
              "      height: 32px;\n",
              "      padding: 0 0 0 0;\n",
              "      width: 32px;\n",
              "    }\n",
              "\n",
              "    .colab-df-convert:hover {\n",
              "      background-color: #E2EBFA;\n",
              "      box-shadow: 0px 1px 2px rgba(60, 64, 67, 0.3), 0px 1px 3px 1px rgba(60, 64, 67, 0.15);\n",
              "      fill: #174EA6;\n",
              "    }\n",
              "\n",
              "    [theme=dark] .colab-df-convert {\n",
              "      background-color: #3B4455;\n",
              "      fill: #D2E3FC;\n",
              "    }\n",
              "\n",
              "    [theme=dark] .colab-df-convert:hover {\n",
              "      background-color: #434B5C;\n",
              "      box-shadow: 0px 1px 3px 1px rgba(0, 0, 0, 0.15);\n",
              "      filter: drop-shadow(0px 1px 2px rgba(0, 0, 0, 0.3));\n",
              "      fill: #FFFFFF;\n",
              "    }\n",
              "  </style>\n",
              "\n",
              "      <script>\n",
              "        const buttonEl =\n",
              "          document.querySelector('#df-c9859c10-bf86-4615-8b5b-536474e9aa12 button.colab-df-convert');\n",
              "        buttonEl.style.display =\n",
              "          google.colab.kernel.accessAllowed ? 'block' : 'none';\n",
              "\n",
              "        async function convertToInteractive(key) {\n",
              "          const element = document.querySelector('#df-c9859c10-bf86-4615-8b5b-536474e9aa12');\n",
              "          const dataTable =\n",
              "            await google.colab.kernel.invokeFunction('convertToInteractive',\n",
              "                                                     [key], {});\n",
              "          if (!dataTable) return;\n",
              "\n",
              "          const docLinkHtml = 'Like what you see? Visit the ' +\n",
              "            '<a target=\"_blank\" href=https://colab.research.google.com/notebooks/data_table.ipynb>data table notebook</a>'\n",
              "            + ' to learn more about interactive tables.';\n",
              "          element.innerHTML = '';\n",
              "          dataTable['output_type'] = 'display_data';\n",
              "          await google.colab.output.renderOutput(dataTable, element);\n",
              "          const docLink = document.createElement('div');\n",
              "          docLink.innerHTML = docLinkHtml;\n",
              "          element.appendChild(docLink);\n",
              "        }\n",
              "      </script>\n",
              "    </div>\n",
              "  </div>\n",
              "  "
            ]
          },
          "metadata": {},
          "execution_count": 49
        }
      ]
    },
    {
      "cell_type": "code",
      "source": [
        "\n",
        "ratings2 = pd.merge(ratings, movies, how='inner', on='movieId')"
      ],
      "metadata": {
        "id": "WwSP4NpV-u6V"
      },
      "execution_count": null,
      "outputs": []
    },
    {
      "cell_type": "code",
      "source": [
        "df = ratings2.pivot_table(index='title',columns='userId',values='rating').fillna(0)\n",
        "df1 = df.copy()"
      ],
      "metadata": {
        "id": "7tCkk-K2ByRD"
      },
      "execution_count": null,
      "outputs": []
    },
    {
      "cell_type": "code",
      "source": [
        "def recommend_movies(user, num_recommended_movies):\n",
        "\n",
        "  print('The list of the Movies {} Has Watched \\n'.format(user))\n",
        "\n",
        "  for m in df[df[user] > 0][user].index.tolist():\n",
        "    print(m)\n",
        "  \n",
        "  print('\\n')\n",
        "\n",
        "  recommended_movies = []\n",
        "\n",
        "  for m in df[df[user] == 0].index.tolist():\n",
        "\n",
        "    index_df = df.index.tolist().index(m)\n",
        "    predicted_rating = df1.iloc[index_df, df1.columns.tolist().index(user)]\n",
        "    recommended_movies.append((m, predicted_rating))\n",
        "\n",
        "  sorted_rm = sorted(recommended_movies, key=lambda x:x[1], reverse=True)\n",
        "  \n",
        "  print('The list of the Recommended Movies \\n')\n",
        "  rank = 1\n",
        "  for recommended_movie in sorted_rm[:num_recommended_movies]:\n",
        "    \n",
        "    print('{}: {} - predicted rating:{}'.format(rank, recommended_movie[0], recommended_movie[1]))\n",
        "    rank = rank + 1"
      ],
      "metadata": {
        "id": "pDk0eJISB30A"
      },
      "execution_count": null,
      "outputs": []
    },
    {
      "cell_type": "code",
      "source": [
        "def movie_recommender(user, num_neighbors, num_recommendation):\n",
        "  \n",
        "  number_neighbors = num_neighbors\n",
        "\n",
        "  knn = NearestNeighbors(metric='cosine', algorithm='brute')\n",
        "  knn.fit(df.values)\n",
        "  distances, indices = knn.kneighbors(df.values, n_neighbors=number_neighbors)\n",
        "\n",
        "  user_index = df.columns.tolist().index(user)\n",
        "\n",
        "  for m,t in list(enumerate(df.index)):\n",
        "    if df.iloc[m, user_index] == 0:\n",
        "      sim_movies = indices[m].tolist()\n",
        "      movie_distances = distances[m].tolist()\n",
        "    \n",
        "      if m in sim_movies:\n",
        "        id_movie = sim_movies.index(m)\n",
        "        sim_movies.remove(m)\n",
        "        movie_distances.pop(id_movie) \n",
        "\n",
        "      else:\n",
        "        sim_movies = sim_movies[:num_neighbors-1]\n",
        "        movie_distances = movie_distances[:num_neighbors-1]\n",
        "           \n",
        "      movie_similarity = [1-x for x in movie_distances]\n",
        "      movie_similarity_copy = movie_similarity.copy()\n",
        "      nominator = 0\n",
        "\n",
        "      for s in range(0, len(movie_similarity)):\n",
        "        if df.iloc[sim_movies[s], user_index] == 0:\n",
        "          if len(movie_similarity_copy) == (number_neighbors - 1):\n",
        "            movie_similarity_copy.pop(s)\n",
        "          \n",
        "          else:\n",
        "            movie_similarity_copy.pop(s-(len(movie_similarity)-len(movie_similarity_copy)))\n",
        "            \n",
        "        else:\n",
        "          nominator = nominator + movie_similarity[s]*df.iloc[sim_movies[s],user_index]\n",
        "          \n",
        "      if len(movie_similarity_copy) > 0:\n",
        "        if sum(movie_similarity_copy) > 0:\n",
        "          predicted_r = nominator/sum(movie_similarity_copy)\n",
        "        \n",
        "        else:\n",
        "          predicted_r = 0\n",
        "\n",
        "      else:\n",
        "        predicted_r = 0\n",
        "        \n",
        "      df1.iloc[m,user_index] = predicted_r\n",
        "  recommend_movies(user,num_recommendation)"
      ],
      "metadata": {
        "id": "GkdbXJS5CDcD"
      },
      "execution_count": null,
      "outputs": []
    },
    {
      "cell_type": "code",
      "source": [
        "movie_recommender(15, 10, 10)\n"
      ],
      "metadata": {
        "colab": {
          "base_uri": "https://localhost:8080/"
        },
        "id": "AulfqcM8CG5N",
        "outputId": "05bf0a8b-a3e4-4cd9-9bef-93be00b6beed"
      },
      "execution_count": null,
      "outputs": [
        {
          "output_type": "stream",
          "name": "stdout",
          "text": [
            "The list of the Movies 15 Has Watched \n",
            "\n",
            "(500) Days of Summer (2009)\n",
            "10 Cloverfield Lane (2016)\n",
            "101 Dalmatians (One Hundred and One Dalmatians) (1961)\n",
            "28 Days Later (2002)\n",
            "9 (2009)\n",
            "A.I. Artificial Intelligence (2001)\n",
            "Adjustment Bureau, The (2011)\n",
            "Aladdin (1992)\n",
            "Alien (1979)\n",
            "Aliens (1986)\n",
            "American Beauty (1999)\n",
            "American History X (1998)\n",
            "American Psycho (2000)\n",
            "Apocalypto (2006)\n",
            "Avatar (2009)\n",
            "Avengers, The (2012)\n",
            "Back to the Future (1985)\n",
            "Back to the Future Part II (1989)\n",
            "Back to the Future Part III (1990)\n",
            "Beautiful Mind, A (2001)\n",
            "Bicentennial Man (1999)\n",
            "Bolt (2008)\n",
            "Bridge of Spies (2015)\n",
            "Captain America: The Winter Soldier (2014)\n",
            "Captain Phillips (2013)\n",
            "Casper (1995)\n",
            "Cast Away (2000)\n",
            "Catch Me If You Can (2002)\n",
            "Chappie (2015)\n",
            "Children of Men (2006)\n",
            "Cloudy with a Chance of Meatballs (2009)\n",
            "Dark Knight Rises, The (2012)\n",
            "Dark Knight, The (2008)\n",
            "Deadpool (2016)\n",
            "District 9 (2009)\n",
            "Django Unchained (2012)\n",
            "Doctor Strange (2016)\n",
            "Edge of Tomorrow (2014)\n",
            "Escape from L.A. (1996)\n",
            "Ex Machina (2015)\n",
            "Fifth Element, The (1997)\n",
            "Fight Club (1999)\n",
            "Finding Nemo (2003)\n",
            "Flintstones, The (1994)\n",
            "Forrest Gump (1994)\n",
            "Frequency (2000)\n",
            "Gattaca (1997)\n",
            "Gladiator (2000)\n",
            "Godfather, The (1972)\n",
            "Gods Must Be Crazy, The (1980)\n",
            "Gone Girl (2014)\n",
            "Gran Torino (2008)\n",
            "Grand Budapest Hotel, The (2014)\n",
            "Gravity (2013)\n",
            "Green Mile, The (1999)\n",
            "Groundhog Day (1993)\n",
            "Guardians of the Galaxy (2014)\n",
            "I Am Legend (2007)\n",
            "I, Robot (2004)\n",
            "Inception (2010)\n",
            "Incredibles, The (2004)\n",
            "Independence Day (a.k.a. ID4) (1996)\n",
            "Inside Out (2015)\n",
            "Interstellar (2014)\n",
            "Iron Man (2008)\n",
            "John Wick (2014)\n",
            "Johnny Mnemonic (1995)\n",
            "Junior (1994)\n",
            "Kill Bill: Vol. 1 (2003)\n",
            "Kill Bill: Vol. 2 (2004)\n",
            "Lethal Weapon 2 (1989)\n",
            "Life of Pi (2012)\n",
            "Limitless (2011)\n",
            "Lion King, The (1994)\n",
            "Little Mermaid, The (1989)\n",
            "Looper (2012)\n",
            "Lord of the Rings: The Fellowship of the Ring, The (2001)\n",
            "Lord of the Rings: The Two Towers, The (2002)\n",
            "Léon: The Professional (a.k.a. The Professional) (Léon) (1994)\n",
            "Mad Max: Fury Road (2015)\n",
            "Matrix, The (1999)\n",
            "Memento (2000)\n",
            "Minority Report (2002)\n",
            "Misery (1990)\n",
            "Monsters, Inc. (2001)\n",
            "Moon (2009)\n",
            "Mortal Kombat (1995)\n",
            "My Neighbor Totoro (Tonari no Totoro) (1988)\n",
            "Nightmare on Elm Street, A (1984)\n",
            "Oblivion (2013)\n",
            "Others, The (2001)\n",
            "Passengers (2016)\n",
            "Patriot, The (2000)\n",
            "Pinocchio (1940)\n",
            "Prestige, The (2006)\n",
            "Prometheus (2012)\n",
            "Pulp Fiction (1994)\n",
            "Raiders of the Lost Ark (Indiana Jones and the Raiders of the Lost Ark) (1981)\n",
            "Ratatouille (2007)\n",
            "Requiem for a Dream (2000)\n",
            "Road Trip (2000)\n",
            "Rogue One: A Star Wars Story (2016)\n",
            "Ronin (1998)\n",
            "Sausage Party (2016)\n",
            "Saving Private Ryan (1998)\n",
            "Schindler's List (1993)\n",
            "Seven (a.k.a. Se7en) (1995)\n",
            "Shawshank Redemption, The (1994)\n",
            "Shrek (2001)\n",
            "Shrek 2 (2004)\n",
            "Sixth Sense, The (1999)\n",
            "Source Code (2011)\n",
            "Spirited Away (Sen to Chihiro no kamikakushi) (2001)\n",
            "Star Wars: Episode III - Revenge of the Sith (2005)\n",
            "Star Wars: Episode IV - A New Hope (1977)\n",
            "Star Wars: Episode V - The Empire Strikes Back (1980)\n",
            "Star Wars: Episode VI - Return of the Jedi (1983)\n",
            "Star Wars: Episode VII - The Force Awakens (2015)\n",
            "Sully (2016)\n",
            "Terminator 2: Judgment Day (1991)\n",
            "Terminator, The (1984)\n",
            "The Butterfly Effect (2004)\n",
            "The Hunger Games (2012)\n",
            "The Martian (2015)\n",
            "Total Recall (1990)\n",
            "Toy Story (1995)\n",
            "U-571 (2000)\n",
            "Unbreakable (2000)\n",
            "Up (2009)\n",
            "WALL·E (2008)\n",
            "What Women Want (2000)\n",
            "World War Z (2013)\n",
            "X-Files: Fight the Future, The (1998)\n",
            "X-Men: Apocalypse (2016)\n",
            "Zootopia (2016)\n",
            "\n",
            "\n",
            "The list of the Recommended Movies \n",
            "\n",
            "1: Army of Darkness (1993) - predicted rating:5.000000000000001\n",
            "2: Finding Forrester (2000) - predicted rating:5.000000000000001\n",
            "3: Home Alone 2: Lost in New York (1992) - predicted rating:5.000000000000001\n",
            "4: Jaws (1975) - predicted rating:5.000000000000001\n",
            "5: Master and Commander: The Far Side of the World (2003) - predicted rating:5.000000000000001\n",
            "6: Speed (1994) - predicted rating:5.000000000000001\n",
            "7: Thank You for Smoking (2006) - predicted rating:5.000000000000001\n",
            "8: 2001: A Space Odyssey (1968) - predicted rating:5.0\n",
            "9: Alien: Resurrection (1997) - predicted rating:5.0\n",
            "10: Beverly Hills Cop (1984) - predicted rating:5.0\n"
          ]
        }
      ]
    },
    {
      "cell_type": "markdown",
      "metadata": {
        "id": "ikhIvrku-i-L"
      },
      "source": [
        "#Deep & Cross Network (DCN) layer for  feature crossing\n",
        "\n"
      ]
    },
    {
      "cell_type": "markdown",
      "metadata": {
        "id": "6OlIGoADAhZg"
      },
      "source": [
        "In the following, we will first show the advantage of DCN with a toy example, and then we will walk you through some common ways to utilize DCN using the MovieLen-1M dataset."
      ]
    },
    {
      "cell_type": "markdown",
      "metadata": {
        "id": "Az-y_3qxH3gA"
      },
      "source": [
        "Let's first install and import the necessary packages for this colab.\n"
      ]
    },
    {
      "cell_type": "code",
      "execution_count": null,
      "metadata": {
        "id": "PjfZWVEWAmxS",
        "colab": {
          "base_uri": "https://localhost:8080/"
        },
        "outputId": "7a734077-582c-46ca-f0c4-e4e96b51883b"
      },
      "outputs": [
        {
          "output_type": "stream",
          "name": "stdout",
          "text": [
            "\u001b[K     |████████████████████████████████| 85 kB 2.5 MB/s \n",
            "\u001b[K     |████████████████████████████████| 462 kB 31.1 MB/s \n",
            "\u001b[K     |████████████████████████████████| 4.2 MB 14.3 MB/s \n",
            "\u001b[?25h"
          ]
        }
      ],
      "source": [
        "!pip install -q tensorflow-recommenders\n",
        "!pip install -q --upgrade tensorflow-datasets"
      ]
    },
    {
      "cell_type": "code",
      "execution_count": null,
      "metadata": {
        "id": "DqsyLA0UHeCl"
      },
      "outputs": [],
      "source": [
        "import pprint\n",
        "\n",
        "%matplotlib inline\n",
        "import matplotlib.pyplot as plt\n",
        "from mpl_toolkits.axes_grid1 import make_axes_locatable\n",
        "\n",
        "import numpy as np\n",
        "import tensorflow as tf\n",
        "import tensorflow_datasets as tfds\n",
        "\n",
        "import tensorflow_recommenders as tfrs"
      ]
    },
    {
      "cell_type": "markdown",
      "metadata": {
        "id": "tHCgOeoHBGbb"
      },
      "source": [
        "## Toy Example\n"
      ]
    },
    {
      "cell_type": "markdown",
      "metadata": {
        "id": "-fi2ya4P_hab"
      },
      "source": [
        "### Synthetic data generation\n",
        "\n",
        "We first define $f(x_1, x_2, x_3)$ as described above. "
      ]
    },
    {
      "cell_type": "code",
      "execution_count": null,
      "metadata": {
        "id": "9rT3f6C3GX0u"
      },
      "outputs": [],
      "source": [
        "def get_mixer_data(data_size=100_000, random_seed=42):\n",
        "  # We need to fix the random seed\n",
        "  # to make colab runs repeatable.\n",
        "  rng = np.random.RandomState(random_seed)\n",
        "  country = rng.randint(200, size=[data_size, 1]) / 200.\n",
        "  bananas = rng.randint(24, size=[data_size, 1]) / 24.\n",
        "  cookbooks = rng.randint(6, size=[data_size, 1]) / 6.\n",
        "\n",
        "  x = np.concatenate([country, bananas, cookbooks], axis=1)\n",
        "\n",
        "  # # Create 1st-order terms.\n",
        "  y = 0.1 * country + 0.4 * bananas + 0.7 * cookbooks\n",
        "\n",
        "  # Create 2nd-order cross terms.\n",
        "  y += 0.1 * country * bananas + 3.1 * bananas * cookbooks + (\n",
        "        0.1 * cookbooks * cookbooks)\n",
        "\n",
        "  return x, y"
      ]
    },
    {
      "cell_type": "markdown",
      "metadata": {
        "id": "JXtUSs9E3uRG"
      },
      "source": [
        "Let's generate the data that follows the distribution, and split the data into 90% for training and 10% for testing."
      ]
    },
    {
      "cell_type": "code",
      "execution_count": null,
      "metadata": {
        "id": "vrQWVYajgmNV"
      },
      "outputs": [],
      "source": [
        "x, y = get_mixer_data()\n",
        "num_train = 90000\n",
        "train_x = x[:num_train]\n",
        "train_y = y[:num_train]\n",
        "eval_x = x[num_train:]\n",
        "eval_y = y[num_train:]"
      ]
    },
    {
      "cell_type": "markdown",
      "metadata": {
        "id": "MszQC-KJLhVK"
      },
      "source": [
        "### Model construction\n"
      ]
    },
    {
      "cell_type": "code",
      "execution_count": null,
      "metadata": {
        "id": "bwgAH2FTR4Fe"
      },
      "outputs": [],
      "source": [
        "class Model(tfrs.Model):\n",
        "\n",
        "  def __init__(self, model):\n",
        "    super().__init__()\n",
        "    self._model = model\n",
        "    self._logit_layer = tf.keras.layers.Dense(1)\n",
        "\n",
        "    self.task = tfrs.tasks.Ranking(\n",
        "      loss=tf.keras.losses.MeanSquaredError(),\n",
        "      metrics=[\n",
        "        tf.keras.metrics.RootMeanSquaredError(\"RMSE\")\n",
        "      ]\n",
        "    )\n",
        "\n",
        "  def call(self, x):\n",
        "    x = self._model(x)\n",
        "    return self._logit_layer(x)\n",
        "\n",
        "  def compute_loss(self, features, training=False):\n",
        "    x, labels = features\n",
        "    scores = self(x)\n",
        "\n",
        "    return self.task(\n",
        "        labels=labels,\n",
        "        predictions=scores,\n",
        "    )"
      ]
    },
    {
      "cell_type": "markdown",
      "metadata": {
        "id": "QAKBq2QxOdM0"
      },
      "source": [
        "Then, we specify the cross network (with 1 cross layer of size 3) and the ReLU-based DNN (with layer sizes [512, 256, 128]):"
      ]
    },
    {
      "cell_type": "code",
      "execution_count": null,
      "metadata": {
        "id": "EwBwSHz_N3pW"
      },
      "outputs": [],
      "source": [
        "crossnet = Model(tfrs.layers.dcn.Cross())\n",
        "deepnet = Model(\n",
        "    tf.keras.Sequential([\n",
        "      tf.keras.layers.Dense(512, activation=\"relu\"),\n",
        "      tf.keras.layers.Dense(256, activation=\"relu\"),\n",
        "      tf.keras.layers.Dense(128, activation=\"relu\")\n",
        "    ])\n",
        ")"
      ]
    },
    {
      "cell_type": "markdown",
      "metadata": {
        "id": "2EtaI5lh4X0B"
      },
      "source": [
        "### Model training\n",
        "Now that we have the data and models ready, we are going to train the models. We first shuffle and batch the data to prepare for model training.\n"
      ]
    },
    {
      "cell_type": "code",
      "execution_count": null,
      "metadata": {
        "id": "X6gD-NTF4eoj"
      },
      "outputs": [],
      "source": [
        "train_data = tf.data.Dataset.from_tensor_slices((train_x, train_y)).batch(1000)\n",
        "eval_data = tf.data.Dataset.from_tensor_slices((eval_x, eval_y)).batch(1000)"
      ]
    },
    {
      "cell_type": "markdown",
      "metadata": {
        "id": "JYm5bmmgPVZu"
      },
      "source": [
        "Then, we define the number of epochs as well as the learning rate."
      ]
    },
    {
      "cell_type": "code",
      "execution_count": null,
      "metadata": {
        "id": "nFhrC7fV6szW"
      },
      "outputs": [],
      "source": [
        "epochs = 100\n",
        "learning_rate = 0.4"
      ]
    },
    {
      "cell_type": "markdown",
      "metadata": {
        "id": "zbRiVPJtPz-1"
      },
      "source": [
        "Alright, everything is ready now and let's compile and train the models. You could set `verbose=True` if you want to see how the model progresses."
      ]
    },
    {
      "cell_type": "code",
      "execution_count": null,
      "metadata": {
        "id": "F8ZXXbmKuB8p",
        "colab": {
          "base_uri": "https://localhost:8080/"
        },
        "outputId": "0f732818-f196-4d29-f89f-94e5b570ff19"
      },
      "outputs": [
        {
          "output_type": "execute_result",
          "data": {
            "text/plain": [
              "<keras.callbacks.History at 0x7fb040b801d0>"
            ]
          },
          "metadata": {},
          "execution_count": 9
        }
      ],
      "source": [
        "crossnet.compile(optimizer=tf.keras.optimizers.Adagrad(learning_rate))\n",
        "crossnet.fit(train_data, epochs=epochs, verbose=False)"
      ]
    },
    {
      "cell_type": "code",
      "execution_count": null,
      "metadata": {
        "id": "Tzg3KLKW2sdA",
        "colab": {
          "base_uri": "https://localhost:8080/"
        },
        "outputId": "7bd80e9a-94aa-46f1-e455-e3330026cc40"
      },
      "outputs": [
        {
          "output_type": "execute_result",
          "data": {
            "text/plain": [
              "<keras.callbacks.History at 0x7fb03b0e46d0>"
            ]
          },
          "metadata": {},
          "execution_count": 10
        }
      ],
      "source": [
        "deepnet.compile(optimizer=tf.keras.optimizers.Adagrad(learning_rate))\n",
        "deepnet.fit(train_data, epochs=epochs, verbose=False)"
      ]
    },
    {
      "cell_type": "markdown",
      "metadata": {
        "id": "xxWfaY6H7Bmp"
      },
      "source": [
        "### Model evaluation\n",
        "We verify the model performance on the evaluation dataset and report the Root Mean Squared Error (RMSE, the lower the better)."
      ]
    },
    {
      "cell_type": "code",
      "execution_count": null,
      "metadata": {
        "id": "l4PM-goX6FoD",
        "colab": {
          "base_uri": "https://localhost:8080/"
        },
        "outputId": "2b130ad3-4a01-4e47-eac8-0259c9ef3f75"
      },
      "outputs": [
        {
          "output_type": "stream",
          "name": "stdout",
          "text": [
            "CrossNet(1 layer) RMSE is 0.0060 using 16 parameters.\n",
            "DeepNet(large) RMSE is 0.0335 using 166401 parameters.\n"
          ]
        }
      ],
      "source": [
        "crossnet_result = crossnet.evaluate(eval_data, return_dict=True, verbose=False)\n",
        "print(f\"CrossNet(1 layer) RMSE is {crossnet_result['RMSE']:.4f} \"\n",
        "      f\"using {crossnet.count_params()} parameters.\")\n",
        "\n",
        "deepnet_result = deepnet.evaluate(eval_data, return_dict=True, verbose=False)\n",
        "print(f\"DeepNet(large) RMSE is {deepnet_result['RMSE']:.4f} \"\n",
        "      f\"using {deepnet.count_params()} parameters.\")"
      ]
    },
    {
      "cell_type": "markdown",
      "metadata": {
        "id": "XsCsY1-Us-_e"
      },
      "source": [
        "### Model understanding\n"
      ]
    },
    {
      "cell_type": "code",
      "execution_count": null,
      "metadata": {
        "id": "N8dga2Qck5IV",
        "colab": {
          "base_uri": "https://localhost:8080/",
          "height": 354
        },
        "outputId": "00444793-7843-4b88-bce5-99144b2a00dd"
      },
      "outputs": [
        {
          "output_type": "display_data",
          "data": {
            "text/plain": [
              "<Figure size 648x648 with 0 Axes>"
            ]
          },
          "metadata": {}
        },
        {
          "output_type": "display_data",
          "data": {
            "text/plain": [
              "<Figure size 288x288 with 2 Axes>"
            ],
            "image/png": "[encoded data removed]"
          },
          "metadata": {
            "needs_background": "light"
          }
        }
      ],
      "source": [
        "mat = crossnet._model._dense.kernel\n",
        "features = [\"country\", \"purchased_bananas\", \"purchased_cookbooks\"]\n",
        "\n",
        "plt.figure(figsize=(9,9))\n",
        "im = plt.matshow(np.abs(mat.numpy()), cmap=plt.cm.Blues)\n",
        "ax = plt.gca()\n",
        "divider = make_axes_locatable(plt.gca())\n",
        "cax = divider.append_axes(\"right\", size=\"5%\", pad=0.05)\n",
        "plt.colorbar(im, cax=cax)\n",
        "cax.tick_params(labelsize=10) \n",
        "_ = ax.set_xticklabels([''] + features, rotation=45, fontsize=10)\n",
        "_ = ax.set_yticklabels([''] + features, fontsize=10)"
      ]
    },
    {
      "cell_type": "markdown",
      "metadata": {
        "id": "0wU4FcpfHCZM"
      },
      "source": [
        "## Movielens 1M example\n"
      ]
    },
    {
      "cell_type": "markdown",
      "metadata": {
        "id": "8Rvlem07wfwH"
      },
      "source": [
        "### Data processing\n",
        "\n"
      ]
    },
    {
      "cell_type": "code",
      "execution_count": null,
      "metadata": {
        "id": "7Y_n3EPosR4A",
        "colab": {
          "base_uri": "https://localhost:8080/",
          "height": 187,
          "referenced_widgets": [
            "a108a92a1f864cf48ce745a6a23816c4",
            "9fa62c54179949659c1314042dac05ab",
            "c79b9f4a55ad4954bc07d8ddb89aa13c",
            "1dd613411d984f32baa34e9740fb033f",
            "91231b1888764e02a2b7fcf3e3df92fd",
            "6e1609038be04653aa0cef1d4bc15de8",
            "760ee996f1f64b519b4547931e4ecaac",
            "aded94a325184b9e9354a09dab3dc423",
            "6542ea4323e24b96b9c6bfb923994b9b",
            "ea1ec8d111ac4e239c2da11c38dae590",
            "57491b8a2919437e885f6af2604d05ad",
            "35114e13bbd740e4819bf0c0f452aa28",
            "0e627c4b58e049908408827e67c5dcc8",
            "5a3f784e2b9d41d1a86bc6a38fc439b0",
            "7f3f56fad98440ecb150f3b79ca2ebab",
            "917adf6d93144177aa70696c1a37a54b",
            "0a7114f0ac6443c98d4c8dfdc68b6c02",
            "b1ab15bc45b945feaa0b9f72522c9330",
            "0fe01da7ce2346f984056a223cd136d2",
            "0a3ff7f0d381473eab4f625f0adc06c9",
            "434cc73363cf4b9b9fb5f7c75de43505",
            "1ebf1a4ae51345989fc58fe640ab62da",
            "27b80c51c4574f74bc96eeb686cf39ef",
            "b08743a916234d7aa6d0264a576c85ed",
            "09cfe045e0394cf59fa7d81ab71c1daf",
            "544debf0871e4f73a515b0abe364728d",
            "073fe6dc35b64c9494272a85793c35df",
            "aa7acbc6547e49dbba857121dbab8dd7",
            "7e49811664c14be8a8ab3ac4f1b9c7a3",
            "eacb6cacb9404958b90267bb4194410d",
            "83b15db30848478d8eb2d8e83ebd9a45",
            "29c03f8f38a54691bb19ca2c63dc1f14",
            "86e2e01f080c4ec48b5d6fc24db6f4c5",
            "8a43c494ad3c4a9ba97618a04b19c1a0",
            "6294ac24cc0c49eca7dd64a0b37c6a18",
            "0549bf4ed3f641e1873028bad1e96ced",
            "0c05a0380d614a03a0d94b166d10205f",
            "caca8f4859e24dfab6ac50a83be4f9bf",
            "cd172e0dabd1401a96f39181891c9c34",
            "5b8732cca7774137bcafc9554782d2ea",
            "f7da91035f7e42959a81389e28c3daa3",
            "a87336d4051c4f75b46a3d29aea17e5a",
            "bc00cdcb35644a85861d8e11e9005e56",
            "4c44e6b092784ca0b43708df4985cbf2",
            "bee725d60b9f4f0999f0e43c08c9ffdc",
            "e46d4842608045e9b6159df26e961580",
            "fd89334808404f298131410d564b8f52",
            "89186d9d07f048808fdeeb5eee666da6",
            "289b2acc6fea4054aeb525a4f3a5b698",
            "13750af72941453d9e9975ddc0045baf",
            "409188b90b5a4b69b0d71baabc7195da",
            "ac641604166447d19a664a6b9031b2b5",
            "e9b3d9fc62f4471e825d095967d733db",
            "23eefe23060a4a1b9d6abae64d12dd02",
            "e6b87f076ad540ba9f199c60743a9781",
            "52463723d950472da150d0a907a0e698",
            "47bf911e21e84ba2a1c983061da45cd2",
            "c8ddf1b26eb849da947cc9f4d550ff58",
            "1ec49ceebd0c4bc98b5fa8216933c52e",
            "b57d592970eb46db8c196a64069fd6f2",
            "91715a1d302249d1aaedff317bbb30de",
            "7b3dbcd11e6b40368322e6a373021bc1",
            "4c286e5dfd5449bf8c27f153f5266418",
            "526c066c934d4d7598418e6d9304d1ea",
            "4028922516cc4a27b1c3237212434ca6",
            "204058e038a34258baf3f1663068b85e"
          ]
        },
        "outputId": "b25b1e32-4d0a-4bf5-a621-a6505b448c3b"
      },
      "outputs": [
        {
          "output_type": "stream",
          "name": "stderr",
          "text": [
            "WARNING:absl:The handle \"movie_lens\" for the MovieLens dataset is deprecated. Prefer using \"movielens\" instead.\n"
          ]
        },
        {
          "output_type": "stream",
          "name": "stdout",
          "text": [
            "\u001b[1mDownloading and preparing dataset 4.70 MiB (download: 4.70 MiB, generated: 32.41 MiB, total: 37.10 MiB) to /root/tensorflow_datasets/movie_lens/100k-ratings/0.1.0...\u001b[0m\n"
          ]
        },
        {
          "output_type": "display_data",
          "data": {
            "text/plain": [
              "Dl Completed...: 0 url [00:00, ? url/s]"
            ],
            "application/vnd.jupyter.widget-view+json": {
              "version_major": 2,
              "version_minor": 0,
              "model_id": "a108a92a1f864cf48ce745a6a23816c4"
            }
          },
          "metadata": {}
        },
        {
          "output_type": "display_data",
          "data": {
            "text/plain": [
              "Dl Size...: 0 MiB [00:00, ? MiB/s]"
            ],
            "application/vnd.jupyter.widget-view+json": {
              "version_major": 2,
              "version_minor": 0,
              "model_id": "35114e13bbd740e4819bf0c0f452aa28"
            }
          },
          "metadata": {}
        },
        {
          "output_type": "display_data",
          "data": {
            "text/plain": [
              "Extraction completed...: 0 file [00:00, ? file/s]"
            ],
            "application/vnd.jupyter.widget-view+json": {
              "version_major": 2,
              "version_minor": 0,
              "model_id": "27b80c51c4574f74bc96eeb686cf39ef"
            }
          },
          "metadata": {}
        },
        {
          "output_type": "display_data",
          "data": {
            "text/plain": [
              "Generating splits...:   0%|          | 0/1 [00:00<?, ? splits/s]"
            ],
            "application/vnd.jupyter.widget-view+json": {
              "version_major": 2,
              "version_minor": 0,
              "model_id": "8a43c494ad3c4a9ba97618a04b19c1a0"
            }
          },
          "metadata": {}
        },
        {
          "output_type": "display_data",
          "data": {
            "text/plain": [
              "Generating train examples...:   0%|          | 0/100000 [00:00<?, ? examples/s]"
            ],
            "application/vnd.jupyter.widget-view+json": {
              "version_major": 2,
              "version_minor": 0,
              "model_id": "bee725d60b9f4f0999f0e43c08c9ffdc"
            }
          },
          "metadata": {}
        },
        {
          "output_type": "display_data",
          "data": {
            "text/plain": [
              "Shuffling /root/tensorflow_datasets/movie_lens/100k-ratings/0.1.0.incompleteZKQLJM/movie_lens-train.tfrecord*.…"
            ],
            "application/vnd.jupyter.widget-view+json": {
              "version_major": 2,
              "version_minor": 0,
              "model_id": "52463723d950472da150d0a907a0e698"
            }
          },
          "metadata": {}
        },
        {
          "output_type": "stream",
          "name": "stdout",
          "text": [
            "\u001b[1mDataset movie_lens downloaded and prepared to /root/tensorflow_datasets/movie_lens/100k-ratings/0.1.0. Subsequent calls will reuse this data.\u001b[0m\n"
          ]
        }
      ],
      "source": [
        "ratings = tfds.load(\"movie_lens/100k-ratings\", split=\"train\")\n",
        "ratings = ratings.map(lambda x: {\n",
        "    \"movie_id\": x[\"movie_id\"],\n",
        "    \"user_id\": x[\"user_id\"],\n",
        "    \"user_rating\": x[\"user_rating\"],\n",
        "    \"user_gender\": int(x[\"user_gender\"]),\n",
        "    \"user_zip_code\": x[\"user_zip_code\"],\n",
        "    \"user_occupation_text\": x[\"user_occupation_text\"],\n",
        "    \"bucketized_user_age\": int(x[\"bucketized_user_age\"]),\n",
        "})"
      ]
    },
    {
      "cell_type": "code",
      "execution_count": null,
      "metadata": {
        "id": "a5-l91jR_zEo"
      },
      "outputs": [],
      "source": [
        "tf.random.set_seed(42)\n",
        "shuffled = ratings.shuffle(100_000, seed=42, reshuffle_each_iteration=False)\n",
        "\n",
        "train = shuffled.take(80_000)\n",
        "test = shuffled.skip(80_000).take(20_000)"
      ]
    },
    {
      "cell_type": "markdown",
      "metadata": {
        "id": "MRHGa9mESMVz"
      },
      "source": [
        "Then, we create vocabulary for each feature."
      ]
    },
    {
      "cell_type": "code",
      "execution_count": null,
      "metadata": {
        "id": "l9qhEcHq_VfI"
      },
      "outputs": [],
      "source": [
        "feature_names = [\"movie_id\", \"user_id\", \"user_gender\", \"user_zip_code\",\n",
        "                 \"user_occupation_text\", \"bucketized_user_age\"]\n",
        "\n",
        "vocabularies = {}\n",
        "\n",
        "for feature_name in feature_names:\n",
        "  vocab = ratings.batch(1_000_000).map(lambda x: x[feature_name])\n",
        "  vocabularies[feature_name] = np.unique(np.concatenate(list(vocab)))"
      ]
    },
    {
      "cell_type": "markdown",
      "metadata": {
        "id": "Eti8kNkPSORk"
      },
      "source": [
        "### Model construction\n",
        "\n",
        "The model architecture we will be building starts with an embedding layer, which is fed into a cross network followed by a deep network. The embedding dimension is set to 32 for all the features. You could also use different embedding sizes for different features."
      ]
    },
    {
      "cell_type": "code",
      "execution_count": null,
      "metadata": {
        "id": "6lrDcBjiwnHU"
      },
      "outputs": [],
      "source": [
        "class DCN(tfrs.Model):\n",
        "\n",
        "  def __init__(self, use_cross_layer, deep_layer_sizes, projection_dim=None):\n",
        "    super().__init__()\n",
        "\n",
        "    self.embedding_dimension = 32\n",
        "\n",
        "    str_features = [\"movie_id\", \"user_id\", \"user_zip_code\",\n",
        "                    \"user_occupation_text\"]\n",
        "    int_features = [\"user_gender\", \"bucketized_user_age\"]\n",
        "\n",
        "    self._all_features = str_features + int_features\n",
        "    self._embeddings = {}\n",
        "\n",
        "    # Compute embeddings for string features.\n",
        "    for feature_name in str_features:\n",
        "      vocabulary = vocabularies[feature_name]\n",
        "      self._embeddings[feature_name] = tf.keras.Sequential(\n",
        "          [tf.keras.layers.StringLookup(\n",
        "              vocabulary=vocabulary, mask_token=None),\n",
        "           tf.keras.layers.Embedding(len(vocabulary) + 1,\n",
        "                                     self.embedding_dimension)\n",
        "    ])\n",
        "      \n",
        "    # Compute embeddings for int features.\n",
        "    for feature_name in int_features:\n",
        "      vocabulary = vocabularies[feature_name]\n",
        "      self._embeddings[feature_name] = tf.keras.Sequential(\n",
        "          [tf.keras.layers.IntegerLookup(\n",
        "              vocabulary=vocabulary, mask_value=None),\n",
        "           tf.keras.layers.Embedding(len(vocabulary) + 1,\n",
        "                                     self.embedding_dimension)\n",
        "    ])\n",
        "\n",
        "    if use_cross_layer:\n",
        "      self._cross_layer = tfrs.layers.dcn.Cross(\n",
        "          projection_dim=projection_dim,\n",
        "          kernel_initializer=\"glorot_uniform\")\n",
        "    else:\n",
        "      self._cross_layer = None\n",
        "\n",
        "    self._deep_layers = [tf.keras.layers.Dense(layer_size, activation=\"relu\")\n",
        "      for layer_size in deep_layer_sizes]\n",
        "\n",
        "    self._logit_layer = tf.keras.layers.Dense(1)\n",
        "\n",
        "    self.task = tfrs.tasks.Ranking(\n",
        "      loss=tf.keras.losses.MeanSquaredError(),\n",
        "      metrics=[tf.keras.metrics.RootMeanSquaredError(\"RMSE\")]\n",
        "    )\n",
        "\n",
        "  def call(self, features):\n",
        "    # Concatenate embeddings\n",
        "    embeddings = []\n",
        "    for feature_name in self._all_features:\n",
        "      embedding_fn = self._embeddings[feature_name]\n",
        "      embeddings.append(embedding_fn(features[feature_name]))\n",
        "\n",
        "    x = tf.concat(embeddings, axis=1)\n",
        "\n",
        "    # Build Cross Network\n",
        "    if self._cross_layer is not None:\n",
        "      x = self._cross_layer(x)\n",
        "    \n",
        "    # Build Deep Network\n",
        "    for deep_layer in self._deep_layers:\n",
        "      x = deep_layer(x)\n",
        "\n",
        "    return self._logit_layer(x)\n",
        "\n",
        "  def compute_loss(self, features, training=False):\n",
        "    labels = features.pop(\"user_rating\")\n",
        "    scores = self(features)\n",
        "    return self.task(\n",
        "        labels=labels,\n",
        "        predictions=scores,\n",
        "    )"
      ]
    },
    {
      "cell_type": "markdown",
      "metadata": {
        "id": "jDiRfzwVW9LH"
      },
      "source": [
        "### Model training\n",
        "We shuffle, batch and cache the training and test data. \n"
      ]
    },
    {
      "cell_type": "code",
      "execution_count": null,
      "metadata": {
        "id": "qeFjmfUbgzcS"
      },
      "outputs": [],
      "source": [
        "cached_train = train.shuffle(100_000).batch(8192).cache()\n",
        "cached_test = test.batch(4096).cache()"
      ]
    },
    {
      "cell_type": "code",
      "execution_count": null,
      "metadata": {
        "id": "gTDk3GloquHO"
      },
      "outputs": [],
      "source": [
        "def run_models(use_cross_layer, deep_layer_sizes, projection_dim=None, num_runs=5):\n",
        "  models = []\n",
        "  rmses = []\n",
        "\n",
        "  for i in range(num_runs):\n",
        "    model = DCN(use_cross_layer=use_cross_layer,\n",
        "                deep_layer_sizes=deep_layer_sizes,\n",
        "                projection_dim=projection_dim)\n",
        "    model.compile(optimizer=tf.keras.optimizers.Adam(learning_rate))\n",
        "    models.append(model)\n",
        "\n",
        "    model.fit(cached_train, epochs=epochs, verbose=False)\n",
        "    metrics = model.evaluate(cached_test, return_dict=True)\n",
        "    rmses.append(metrics[\"RMSE\"])\n",
        "\n",
        "  mean, stdv = np.average(rmses), np.std(rmses)\n",
        "\n",
        "  return {\"model\": models, \"mean\": mean, \"stdv\": stdv}"
      ]
    },
    {
      "cell_type": "code",
      "execution_count": null,
      "metadata": {
        "id": "Zy3kWb5Dh0E7"
      },
      "outputs": [],
      "source": [
        "epochs = 8\n",
        "learning_rate = 0.01"
      ]
    },
    {
      "cell_type": "markdown",
      "metadata": {
        "id": "Nz3ftiQLXdC0"
      },
      "source": [
        "**DCN (stacked).**"
      ]
    },
    {
      "cell_type": "code",
      "execution_count": null,
      "metadata": {
        "id": "hiuYPJWhgw3J",
        "colab": {
          "base_uri": "https://localhost:8080/"
        },
        "outputId": "26f95f0d-f828-4b58-fe79-54496b5c47c2"
      },
      "outputs": [
        {
          "output_type": "stream",
          "name": "stdout",
          "text": [
            "WARNING:tensorflow:mask_value is deprecated, use mask_token instead.\n"
          ]
        },
        {
          "output_type": "stream",
          "name": "stderr",
          "text": [
            "WARNING:tensorflow:mask_value is deprecated, use mask_token instead.\n"
          ]
        },
        {
          "output_type": "stream",
          "name": "stdout",
          "text": [
            "5/5 [==============================] - 4s 45ms/step - RMSE: 0.9308 - loss: 0.8668 - regularization_loss: 0.0000e+00 - total_loss: 0.8668\n",
            "5/5 [==============================] - 0s 21ms/step - RMSE: 0.9339 - loss: 0.8725 - regularization_loss: 0.0000e+00 - total_loss: 0.8725\n",
            "5/5 [==============================] - 0s 25ms/step - RMSE: 0.9326 - loss: 0.8703 - regularization_loss: 0.0000e+00 - total_loss: 0.8703\n",
            "5/5 [==============================] - 0s 24ms/step - RMSE: 0.9350 - loss: 0.8751 - regularization_loss: 0.0000e+00 - total_loss: 0.8751\n",
            "5/5 [==============================] - 0s 21ms/step - RMSE: 0.9339 - loss: 0.8729 - regularization_loss: 0.0000e+00 - total_loss: 0.8729\n"
          ]
        }
      ],
      "source": [
        "dcn_result = run_models(use_cross_layer=True,\n",
        "                        deep_layer_sizes=[192, 192])"
      ]
    },
    {
      "cell_type": "markdown",
      "metadata": {
        "id": "ZwTn_UpDX_iO"
      },
      "source": [
        "**Low-rank DCN.** \n"
      ]
    },
    {
      "cell_type": "code",
      "execution_count": null,
      "metadata": {
        "id": "NYxbHI7ZNJX7",
        "colab": {
          "base_uri": "https://localhost:8080/"
        },
        "outputId": "138ba293-5fed-4094-f610-f24643dcaaa3"
      },
      "outputs": [
        {
          "output_type": "stream",
          "name": "stdout",
          "text": [
            "5/5 [==============================] - 0s 18ms/step - RMSE: 0.9307 - loss: 0.8669 - regularization_loss: 0.0000e+00 - total_loss: 0.8669\n",
            "5/5 [==============================] - 0s 19ms/step - RMSE: 0.9313 - loss: 0.8671 - regularization_loss: 0.0000e+00 - total_loss: 0.8671\n",
            "5/5 [==============================] - 0s 19ms/step - RMSE: 0.9303 - loss: 0.8666 - regularization_loss: 0.0000e+00 - total_loss: 0.8666\n",
            "5/5 [==============================] - 0s 18ms/step - RMSE: 0.9334 - loss: 0.8719 - regularization_loss: 0.0000e+00 - total_loss: 0.8719\n",
            "5/5 [==============================] - 0s 18ms/step - RMSE: 0.9300 - loss: 0.8657 - regularization_loss: 0.0000e+00 - total_loss: 0.8657\n"
          ]
        }
      ],
      "source": [
        "dcn_lr_result = run_models(use_cross_layer=True,\n",
        "                           projection_dim=20,\n",
        "                           deep_layer_sizes=[192, 192])"
      ]
    },
    {
      "cell_type": "markdown",
      "metadata": {
        "id": "5O5AoNOdaQ80"
      },
      "source": [
        "**DNN.** "
      ]
    },
    {
      "cell_type": "code",
      "execution_count": null,
      "metadata": {
        "id": "iBPpwD4cGtXF",
        "colab": {
          "base_uri": "https://localhost:8080/"
        },
        "outputId": "181d8ae8-6d7d-4741-92e0-ef00d1d28ff6"
      },
      "outputs": [
        {
          "output_type": "stream",
          "name": "stdout",
          "text": [
            "5/5 [==============================] - 0s 24ms/step - RMSE: 0.9466 - loss: 0.8996 - regularization_loss: 0.0000e+00 - total_loss: 0.8996\n",
            "5/5 [==============================] - 0s 20ms/step - RMSE: 0.9356 - loss: 0.8771 - regularization_loss: 0.0000e+00 - total_loss: 0.8771\n",
            "5/5 [==============================] - 0s 22ms/step - RMSE: 0.9389 - loss: 0.8835 - regularization_loss: 0.0000e+00 - total_loss: 0.8835\n",
            "5/5 [==============================] - 0s 20ms/step - RMSE: 0.9362 - loss: 0.8772 - regularization_loss: 0.0000e+00 - total_loss: 0.8772\n",
            "5/5 [==============================] - 0s 20ms/step - RMSE: 0.9377 - loss: 0.8798 - regularization_loss: 0.0000e+00 - total_loss: 0.8798\n"
          ]
        }
      ],
      "source": [
        "dnn_result = run_models(use_cross_layer=False,\n",
        "                        deep_layer_sizes=[192, 192, 192])"
      ]
    },
    {
      "cell_type": "markdown",
      "metadata": {
        "id": "cBY0ljpl3_k5"
      },
      "source": [
        "We evaluate the model on test data and report the mean and standard deviation out of 5 runs."
      ]
    },
    {
      "cell_type": "code",
      "execution_count": null,
      "metadata": {
        "id": "a1yj3pp0glEL",
        "colab": {
          "base_uri": "https://localhost:8080/"
        },
        "outputId": "289e3de9-1a3e-4a6a-a137-2c6d56b7a403"
      },
      "outputs": [
        {
          "output_type": "stream",
          "name": "stdout",
          "text": [
            "DCN            RMSE mean: 0.9332, stdv: 0.0014\n",
            "DCN (low-rank) RMSE mean: 0.9312, stdv: 0.0012\n",
            "DNN            RMSE mean: 0.9390, stdv: 0.0040\n"
          ]
        }
      ],
      "source": [
        "print(\"DCN            RMSE mean: {:.4f}, stdv: {:.4f}\".format(\n",
        "    dcn_result[\"mean\"], dcn_result[\"stdv\"]))\n",
        "print(\"DCN (low-rank) RMSE mean: {:.4f}, stdv: {:.4f}\".format(\n",
        "    dcn_lr_result[\"mean\"], dcn_lr_result[\"stdv\"]))\n",
        "print(\"DNN            RMSE mean: {:.4f}, stdv: {:.4f}\".format(\n",
        "    dnn_result[\"mean\"], dnn_result[\"stdv\"]))\n"
      ]
    },
    {
      "cell_type": "markdown",
      "metadata": {
        "id": "GEi9PtCEdyma"
      },
      "source": [
        "### Model understanding\n"
      ]
    },
    {
      "cell_type": "code",
      "execution_count": null,
      "metadata": {
        "id": "47ibaEBJxOoe",
        "colab": {
          "base_uri": "https://localhost:8080/",
          "height": 351
        },
        "outputId": "32df394c-60b6-44ea-f4f9-58fcd2bb9ced"
      },
      "outputs": [
        {
          "output_type": "display_data",
          "data": {
            "text/plain": [
              "<Figure size 648x648 with 0 Axes>"
            ]
          },
          "metadata": {}
        },
        {
          "output_type": "display_data",
          "data": {
            "text/plain": [
              "<Figure size 288x288 with 2 Axes>"
            ],
            "image/png": "[encoded data removed]"
          },
          "metadata": {
            "needs_background": "light"
          }
        }
      ],
      "source": [
        "model = dcn_result[\"model\"][0]\n",
        "mat = model._cross_layer._dense.kernel\n",
        "features = model._all_features\n",
        "\n",
        "block_norm = np.ones([len(features), len(features)])\n",
        "\n",
        "dim = model.embedding_dimension\n",
        "\n",
        "# Compute the norms of the blocks.\n",
        "for i in range(len(features)):\n",
        "  for j in range(len(features)):\n",
        "    block = mat[i * dim:(i + 1) * dim,\n",
        "                j * dim:(j + 1) * dim]\n",
        "    block_norm[i,j] = np.linalg.norm(block, ord=\"fro\")\n",
        "\n",
        "plt.figure(figsize=(9,9))\n",
        "im = plt.matshow(block_norm, cmap=plt.cm.Blues)\n",
        "ax = plt.gca()\n",
        "divider = make_axes_locatable(plt.gca())\n",
        "cax = divider.append_axes(\"right\", size=\"5%\", pad=0.05)\n",
        "plt.colorbar(im, cax=cax)\n",
        "cax.tick_params(labelsize=10) \n",
        "_ = ax.set_xticklabels([\"\"] + features, rotation=45, ha=\"left\", fontsize=10)\n",
        "_ = ax.set_yticklabels([\"\"] + features, fontsize=10)"
      ]
    }
  ]
}